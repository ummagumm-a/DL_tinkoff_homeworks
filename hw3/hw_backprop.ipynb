{
 "cells": [
  {
   "cell_type": "markdown",
   "metadata": {
    "colab_type": "text",
    "id": "mo4MwTZtocWC"
   },
   "source": [
    "# Backprop своими руками"
   ]
  },
  {
   "cell_type": "markdown",
   "metadata": {
    "colab_type": "text",
    "id": "ZTn-EUeLocWG"
   },
   "source": [
    "Материалы:\n",
    "\n",
    "* [Andrew Karpahy: yes, you should understand backprop](https://medium.com/@karpathy/yes-you-should-understand-backprop-e2f06eab496b)\n",
    "* [Stanford CS231n](http://cs231n.stanford.edu/)\n",
    "* [Deep Learning](http://sereja.me/f/deep_learning_goodfellow.pdf) — с 204 страницы и до прозрения\n",
    "* [Xavier, Bengio](http://proceedings.mlr.press/v9/glorot10a/glorot10a.pdf)"
   ]
  },
  {
   "cell_type": "markdown",
   "metadata": {
    "colab_type": "text",
    "id": "vr9onIFLocWI"
   },
   "source": [
    "<img width='800px' src='https://cdn-images-1.medium.com/max/1600/1*q1M7LGiDTirwU-4LcFq7_Q.png'>"
   ]
  },
  {
   "cell_type": "markdown",
   "metadata": {
    "colab_type": "text",
    "id": "0pNAiOscocWJ"
   },
   "source": [
    "Иногда сети пишут на чистом C++, причём код для обучения и инференса (реального прогона в продакшне) — отдельно. Так делают, когда нужен очень быстрый отклик и высокая производительность, но это очень трудоемко.\n",
    "\n",
    "Большинство людей не усложняют себе жизнь и просто используют фреймворки — с ними можно просто почти декларативно описать, какие операции хотите сделать с данными, а он потом сам построит сеть и подгонит её под данные.\n",
    "\n",
    "Ваше задание — реализовать свой небольшой фреймворк глубокого обучения на чистом `numpy`. Основное время у вас должно уйти на вывод формул для градиентов, анализ поведения самых часто используемых слоев в современных нейросетях и прочий матан. Хотя бы один раз в жизни это надо сделать, а уже потом пользоваться готовыми абстракциями."
   ]
  },
  {
   "cell_type": "markdown",
   "metadata": {
    "colab_type": "text",
    "id": "boLW-DeTocWL"
   },
   "source": [
    "Предполагаемый порядок выполнения:\n",
    "* Поймите на высоком уровне, как работает алгоритм backpropagation\n",
    "* Изучите пример с логиситической регрессией, чтобы понять, что от вас в итоге хотят\n",
    "* Изучите код `Module`\n",
    "* `Sequential`\n",
    "* `Linear`\n",
    "* `SoftMax`\n",
    "* `CrossEntropy`\n",
    "* Протестируйте их на логситической регрессии\n",
    "* Напишите код для решения MNIST\n",
    "* Дописывайте остальные слои, пока не получите на нём 97%"
   ]
  },
  {
   "cell_type": "markdown",
   "metadata": {
    "colab_type": "text",
    "id": "sPciq6WzocWN"
   },
   "source": [
    "Оценивание (суммарно до 20 баллов):\n",
    "* 5 баллов -- что-то хоть как-то обучается, MNIST на валидации >90%\n",
    "* 2 балла -- MNIST на 95%, дальше по одному баллу за 96%, 97% и 98%. Это будет сделать намного сложнее, чем через PyTorch, потому что вам всё нужно писать самим: более сложные оптимизаторы, learning rate decay, думать про численную стабильность и т. д.\n",
    "* По 2 балла за слои: LeakyReLU, Dropout, BatchNorm, CrossEntropy, SoftMax"
   ]
  },
  {
   "cell_type": "markdown",
   "metadata": {
    "colab_type": "text",
    "id": "VrI9amBAocWO"
   },
   "source": [
    "Советы:\n",
    "* Чтобы лучше понять, что должно в итоге получиться, изучите «игрушечный пример» и вообще эту тетрадку, а потом начните читать `hw_framework.py`, где будет более техничное описание.\n",
    "* Для дебага проверяйте градиенты численно — сдвигайте параметры на какой-нибудь эпсилон и смотрите разницу. Ещё можете проверить, что на одинаковых данных они дают то же, что их эквиваленты из PyTorch (можно после каждого нового слоя добавить юнит тест через `assert`).\n",
    "* Пишите код без циклов — в питоне они очень долгие; все вычисления можно делать внутри numpy.\n",
    "* Ограничение на срок сдачи большое — до конца всего курса, но рекомендуется закончить примерно за месяц. Дописывайте его постепенно, разбираясь, как работает каждая функция активации.\n",
    "* Обсуждайте математику и общую архитектуру фреймворка, но не шарьте друг другу код — так не интересно."
   ]
  },
  {
   "cell_type": "code",
   "execution_count": 152,
   "metadata": {
    "colab": {},
    "colab_type": "code",
    "id": "osDsI56TocWQ"
   },
   "outputs": [],
   "source": [
    "import numpy as np\n",
    "import matplotlib.pyplot as plt\n",
    "\n",
    "from sklearn.metrics import classification_report\n",
    "from sklearn.model_selection import train_test_split\n",
    "from sklearn.datasets import fetch_openml\n",
    "from tqdm import tqdm\n",
    "\n",
    "%matplotlib inline"
   ]
  },
  {
   "cell_type": "markdown",
   "metadata": {
    "colab_type": "text",
    "id": "rArLbzznocWU"
   },
   "source": [
    "---"
   ]
  },
  {
   "cell_type": "markdown",
   "metadata": {
    "colab_type": "text",
    "id": "9SpmBG6XocWV"
   },
   "source": [
    "Откройте в Jupyter две тетрадки — эту и `hw_framework.ipynb`. В этой содержится train loop, а там непосредственно ваш «фреймворк», который вам ещё предстоит написать.\n",
    "\n",
    "Архитектура фреймворка вдохновлена PyTorch. Как всегда, если придумаете какой-то более клёвый дизайн — можете использовать его."
   ]
  },
  {
   "cell_type": "code",
   "execution_count": 224,
   "metadata": {
    "colab": {},
    "colab_type": "code",
    "id": "AR35O38uocWX"
   },
   "outputs": [
    {
     "name": "stderr",
     "output_type": "stream",
     "text": [
      "/home/ummagumma/.local/lib/python3.10/site-packages/IPython/core/magic.py:187: FutureWarning: arrays to stack must be passed as a \"sequence\" type such as list or tuple. Support for non-sequence iterables such as generators is deprecated as of NumPy 1.16 and will raise an error in the future.\n",
      "  call = lambda f, *a, **k: f(*a, **k)\n"
     ]
    },
    {
     "name": "stdout",
     "output_type": "stream",
     "text": [
      "CPU times: user 1.12 s, sys: 58.9 ms, total: 1.17 s\n",
      "Wall time: 149 ms\n",
      "CPU times: user 78.1 ms, sys: 5.38 ms, total: 83.4 ms\n",
      "Wall time: 10.5 ms\n"
     ]
    }
   ],
   "source": [
    "%run hw_framework.ipynb"
   ]
  },
  {
   "cell_type": "markdown",
   "metadata": {
    "colab_type": "text",
    "id": "Z03GIF03ocWc"
   },
   "source": [
    "Мы будем использовать самый простой вариант градиентного спуска: просто пройдемся по всем параметрам и сделаем шаги в сторону уменьшения посчитанного заранее градиента.\n",
    "\n",
    "Есть [более продвинутые методы](http://ruder.io/optimizing-gradient-descent/), но пока что мы их использовать не будем."
   ]
  },
  {
   "cell_type": "markdown",
   "metadata": {
    "colab_type": "text",
    "id": "PfBYatsKocWh"
   },
   "source": [
    "Cоздадим обертку вокруг нашего датасета (просто numpy-евские массивы), которую будем потом использовать, чтобы итерироваться по нему."
   ]
  },
  {
   "cell_type": "code",
   "execution_count": 6,
   "metadata": {
    "colab": {},
    "colab_type": "code",
    "id": "jDmJKg8hocWi"
   },
   "outputs": [],
   "source": [
    "def loader(X, Y, batch_size):    \n",
    "    n = X.shape[0]\n",
    "\n",
    "    # в начале каждой эпохи будем всё перемешивать\n",
    "    # важно, что мы пермешиваем индексы, а не X\n",
    "    indices = np.arange(n)\n",
    "    np.random.shuffle(indices)\n",
    "    \n",
    "    for start in range(0, n, batch_size):\n",
    "        # в конце нам, возможно, нужно взять неполный батч\n",
    "        end = min(start + batch_size, n)\n",
    "        \n",
    "        batch_idx = indices[start:end]\n",
    "    \n",
    "        yield X[batch_idx], Y[batch_idx]"
   ]
  },
  {
   "cell_type": "markdown",
   "metadata": {
    "colab_type": "text",
    "id": "yMcWZrUPocWm"
   },
   "source": [
    "В следующих двух секциях — игрушечные примеры регрессии и классификации на синтезированных данных. В них ничего менять не надо — они нужны, чтобы отдебажить ваши слои в `hw_framework`."
   ]
  },
  {
   "cell_type": "markdown",
   "metadata": {
    "colab_type": "text",
    "id": "MLPP2pyMocWn"
   },
   "source": [
    "# Линейная регрессия"
   ]
  },
  {
   "cell_type": "code",
   "execution_count": 135,
   "metadata": {
    "colab": {},
    "colab_type": "code",
    "id": "i2oHX9NQocWo",
    "scrolled": true
   },
   "outputs": [
    {
     "name": "stdout",
     "output_type": "stream",
     "text": [
      "best_possible_mse: [0.03968399]\n"
     ]
    }
   ],
   "source": [
    "n = 1000\n",
    "\n",
    "X = np.random.randn(n, 10)\n",
    "true_w = np.random.randn(10, 1)\n",
    "Y = np.dot(X, true_w).reshape(n, 1) + np.random.randn(n, 1)/5\n",
    "\n",
    "print('best_possible_mse:', np.mean(np.power(Y-np.dot(X, true_w).reshape(n, 1), 2), axis=0))"
   ]
  },
  {
   "cell_type": "code",
   "execution_count": 139,
   "metadata": {},
   "outputs": [],
   "source": [
    "def train(model, criterion, optimizer, X, Y, epochs=5):\n",
    "    history = []\n",
    "    grads = []\n",
    "    grad_means_l = []\n",
    "\n",
    "    for i in tqdm(range(epochs)):\n",
    "        for x, y_true in loader(X, Y, batch_size):\n",
    "#             x_ = normalize_x(x)\n",
    "#             y_true_oh = to_one_hot(y_true, 10)\n",
    "            y_pred = model.forward(x)\n",
    "#             print(y_pred, y_true)\n",
    "            loss = criterion.forward(y_pred, y_true)\n",
    "\n",
    "            grad = criterion.backward(y_pred, y_true)\n",
    "            model.backward(x, grad)\n",
    "            \n",
    "#             g = clip_grad(model.grad_parameters(), 1.0)\n",
    "#             grads.append(g)\n",
    "#             grad_means_l.append(grad_means(model.grad_parameters()))\n",
    "\n",
    "            # обновляем веса\n",
    "            optimizer.step()\n",
    "\n",
    "#             print(loss)\n",
    "            history.append(loss)\n",
    "\n",
    "    plt.title(\"Training loss\")\n",
    "    plt.xlabel(\"iteration\")\n",
    "    plt.ylabel(\"loss\")\n",
    "    plt.plot(history, 'b')\n",
    "    plt.show()\n",
    "    \n",
    "#     plt.title(\"Gradient mean\")\n",
    "#     plt.xlabel(\"iteration\")\n",
    "#     plt.ylabel(\"grad mean\")\n",
    "#     plt.plot(grads, 'b')\n",
    "#     plt.show()\n",
    "    \n",
    "#     plt.plot(grad_means_l)\n",
    "#     plt.show()"
   ]
  },
  {
   "cell_type": "code",
   "execution_count": 149,
   "metadata": {},
   "outputs": [
    {
     "name": "stderr",
     "output_type": "stream",
     "text": [
      "100%|█████████████████████████████████████████████████████████████████████████████████████████████████████████████████████████████████████████████████████████████████████████████████| 7/7 [00:00<00:00, 197.40it/s]\n"
     ]
    },
    {
     "data": {
      "image/png": "[encoded data removed]",
      "text/plain": [
       "<Figure size 432x288 with 1 Axes>"
      ]
     },
     "metadata": {
      "needs_background": "light"
     },
     "output_type": "display_data"
    }
   ],
   "source": [
    "epochs = 50\n",
    "batch_size = 64\n",
    "learning_rate = 1e-3\n",
    "\n",
    "model = Sequential(\n",
    "    Linear(10, 1),\n",
    "#     ReLU(),\n",
    "#     Linear(5, 1),\n",
    ")\n",
    "\n",
    "criterion = MSE()\n",
    "optimizer = Momentum(model.parameters())\n",
    "train(model, criterion, optimizer, X, Y, epochs=7)"
   ]
  },
  {
   "cell_type": "markdown",
   "metadata": {},
   "source": [
    "### MNIST"
   ]
  },
  {
   "cell_type": "code",
   "execution_count": 239,
   "metadata": {},
   "outputs": [],
   "source": [
    "dataset = fetch_openml(name='mnist_784')\n",
    "X = dataset.data.to_numpy()[:3000]\n",
    "Y = dataset.target.to_numpy().astype(np.float64)[:3000]\n",
    "x_train, x_test, y_train, y_test = train_test_split(X, Y, test_size=0.4)"
   ]
  },
  {
   "cell_type": "markdown",
   "metadata": {
    "colab_type": "text",
    "id": "gu4bulrKocWs"
   },
   "source": [
    "### Модель"
   ]
  },
  {
   "cell_type": "markdown",
   "metadata": {
    "colab_type": "text",
    "id": "dsdkT55BocWx"
   },
   "source": [
    "Можете тут потом тестировать остальные свои слои, когда их напишите."
   ]
  },
  {
   "cell_type": "markdown",
   "metadata": {
    "colab_type": "text",
    "id": "G6cJy-nOocWy"
   },
   "source": [
    "### Обучение"
   ]
  },
  {
   "cell_type": "code",
   "execution_count": 10,
   "metadata": {},
   "outputs": [],
   "source": [
    "def to_one_hot(x, n_classes):\n",
    "    out = np.zeros((x.shape[0], n_classes))\n",
    "    out[np.arange(x.shape[0]),x.astype(np.int32)] = 1\n",
    "    return out\n",
    "\n",
    "def normalize_x(x):\n",
    "    return (x - 128) / 128"
   ]
  },
  {
   "cell_type": "code",
   "execution_count": 202,
   "metadata": {},
   "outputs": [],
   "source": [
    "def evaluate(model, X, Y):\n",
    "    model.eval()\n",
    "    trues = []\n",
    "    preds = []    \n",
    "    for x, y_true in loader(X, Y, batch_size):\n",
    "        x_ = normalize_x(x)\n",
    "        y_pred = model.forward(x_).argmax(axis=1)\n",
    "        trues.extend(y_true)\n",
    "        preds.extend(y_pred)\n",
    "        \n",
    "    return classification_report(trues, preds, digits=5)"
   ]
  },
  {
   "cell_type": "code",
   "execution_count": 12,
   "metadata": {},
   "outputs": [],
   "source": [
    "def grad_means(grads):\n",
    "    return list(map(lambda x: float(x.mean()), grads))"
   ]
  },
  {
   "cell_type": "code",
   "execution_count": 223,
   "metadata": {
    "colab": {},
    "colab_type": "code",
    "id": "8NHCVPRiocW4"
   },
   "outputs": [],
   "source": [
    "def train(model, criterion, optimizer, X, Y,\n",
    "          scheduler=None,\n",
    "          epochs = 5,\n",
    "          batch_size = 128,\n",
    "          learning_rate = 1e-3):\n",
    "    history = []\n",
    "    grads = []\n",
    "    grad_means_l = []\n",
    "    lrs = []\n",
    "\n",
    "    for i in tqdm(range(epochs)):\n",
    "        model.train()\n",
    "        for x, y_true in loader(X, Y, batch_size):\n",
    "\n",
    "            x_ = normalize_x(x)\n",
    "            y_true_oh = to_one_hot(y_true, 10)\n",
    "            y_pred = model.forward(x_)\n",
    "            loss = criterion.forward(y_pred, y_true_oh)\n",
    "\n",
    "            grad = criterion.backward(y_pred, y_true_oh)\n",
    "            model.backward(x_, grad)\n",
    "            \n",
    "#             g = clip_grad(model.grad_parameters(), 1.0)\n",
    "#             grads.append(g)\n",
    "            grad_means_l.append(grad_means(model.grad_parameters()))\n",
    "\n",
    "            # обновляем веса\n",
    "            optimizer.step()\n",
    "            lrs.append(optimizer.lr)\n",
    "\n",
    "            history.append(loss)\n",
    "            \n",
    "        print(weight_norm(model.parameters()))\n",
    "        if scheduler is not None:\n",
    "            scheduler.step(i)\n",
    "\n",
    "    plt.title(\"Training loss\")\n",
    "    plt.xlabel(\"iteration\")\n",
    "    plt.ylabel(\"loss\")\n",
    "    plt.plot(history, 'b')\n",
    "    plt.show()\n",
    "    \n",
    "#     plt.title(\"Gradient mean\")\n",
    "#     plt.xlabel(\"iteration\")\n",
    "#     plt.ylabel(\"grad mean\")\n",
    "#     plt.plot(grads, 'b')\n",
    "#     plt.show()\n",
    "    \n",
    "    plt.plot(lrs)\n",
    "    plt.show()"
   ]
  },
  {
   "cell_type": "code",
   "execution_count": 86,
   "metadata": {
    "scrolled": true
   },
   "outputs": [
    {
     "name": "stderr",
     "output_type": "stream",
     "text": [
      "100%|██████████████████████████████████████████████████████████████████████████████████████████████████████████████████████████████████████████████████████████████████████████████████| 5/5 [00:16<00:00,  3.22s/it]\n"
     ]
    },
    {
     "data": {
      "image/png": "[encoded data removed]",
      "text/plain": [
       "<Figure size 432x288 with 1 Axes>"
      ]
     },
     "metadata": {
      "needs_background": "light"
     },
     "output_type": "display_data"
    },
    {
     "name": "stdout",
     "output_type": "stream",
     "text": [
      "              precision    recall  f1-score   support\n",
      "\n",
      "         0.0       0.98      0.98      0.98      2118\n",
      "         1.0       0.98      0.99      0.98      2360\n",
      "         2.0       0.96      0.96      0.96      2126\n",
      "         3.0       0.96      0.96      0.96      2150\n",
      "         4.0       0.95      0.97      0.96      2020\n",
      "         5.0       0.96      0.95      0.96      1829\n",
      "         6.0       0.98      0.97      0.98      2087\n",
      "         7.0       0.93      0.98      0.95      2157\n",
      "         8.0       0.98      0.92      0.95      2039\n",
      "         9.0       0.95      0.94      0.95      2114\n",
      "\n",
      "    accuracy                           0.96     21000\n",
      "   macro avg       0.96      0.96      0.96     21000\n",
      "weighted avg       0.96      0.96      0.96     21000\n",
      "\n"
     ]
    }
   ],
   "source": [
    "# model = Sequential(\n",
    "#     Linear(784, 256),\n",
    "#     ReLU(),\n",
    "#     Linear(256, 64),\n",
    "#     ReLU(),\n",
    "#     Linear(64, 16),\n",
    "#     ReLU(),\n",
    "#     Linear(16, 10),\n",
    "#     SoftMax()\n",
    "# )\n",
    "model = Sequential(\n",
    "    Linear(784, 300),\n",
    "    ReLU(),\n",
    "    Linear(300, 10),\n",
    "    SoftMax()\n",
    ")\n",
    "\n",
    "criterion = CrossEntropy()\n",
    "optimizer = SGD(model.parameters(), lr=1e-3)\n",
    "\n",
    "train(model, criterion, optimizer, x_train, y_train)\n",
    "print(evaluate(model, x_test, y_test))"
   ]
  },
  {
   "cell_type": "markdown",
   "metadata": {},
   "source": [
    "### Try different optimizers"
   ]
  },
  {
   "cell_type": "code",
   "execution_count": 157,
   "metadata": {
    "scrolled": true
   },
   "outputs": [
    {
     "name": "stderr",
     "output_type": "stream",
     "text": [
      "100%|████████████████████████████████████████████████████████████████████████████████████████████████████████████████████████████████████████████████████████████████████████████████| 50/50 [04:07<00:00,  4.94s/it]\n"
     ]
    },
    {
     "data": {
      "image/png": "[encoded data removed]",
      "text/plain": [
       "<Figure size 432x288 with 1 Axes>"
      ]
     },
     "metadata": {
      "needs_background": "light"
     },
     "output_type": "display_data"
    },
    {
     "name": "stdout",
     "output_type": "stream",
     "text": [
      "              precision    recall  f1-score   support\n",
      "\n",
      "         0.0       0.99      0.99      0.99      2108\n",
      "         1.0       0.99      0.99      0.99      2420\n",
      "         2.0       0.97      0.97      0.97      2066\n",
      "         3.0       0.98      0.97      0.97      2111\n",
      "         4.0       0.99      0.97      0.98      2029\n",
      "         5.0       0.97      0.97      0.97      1825\n",
      "         6.0       0.97      0.99      0.98      2071\n",
      "         7.0       0.98      0.99      0.98      2242\n",
      "         8.0       0.97      0.97      0.97      1992\n",
      "         9.0       0.97      0.97      0.97      2136\n",
      "\n",
      "    accuracy                           0.98     21000\n",
      "   macro avg       0.98      0.98      0.98     21000\n",
      "weighted avg       0.98      0.98      0.98     21000\n",
      "\n"
     ]
    }
   ],
   "source": [
    "model = Sequential(\n",
    "    Linear(784, 256),\n",
    "    BatchNorm(256),\n",
    "    ReLU(),\n",
    "    Linear(256, 64),\n",
    "    BatchNorm(64),\n",
    "    ReLU(),\n",
    "    Linear(64, 16),\n",
    "    BatchNorm(16),\n",
    "    ReLU(),\n",
    "    Linear(16, 10),\n",
    "    SoftMax()\n",
    ")\n",
    "\n",
    "criterion = CrossEntropy()\n",
    "optimizer = SGD(model.parameters())\n",
    "\n",
    "train(model, criterion, optimizer, x_train, y_train, epochs=50)\n",
    "print(evaluate(model, x_test, y_test))"
   ]
  },
  {
   "cell_type": "code",
   "execution_count": 158,
   "metadata": {},
   "outputs": [
    {
     "name": "stderr",
     "output_type": "stream",
     "text": [
      "100%|████████████████████████████████████████████████████████████████████████████████████████████████████████████████████████████████████████████████████████████████████████████████| 20/20 [01:03<00:00,  3.19s/it]\n"
     ]
    },
    {
     "data": {
      "image/png": "[encoded data removed]",
      "text/plain": [
       "<Figure size 432x288 with 1 Axes>"
      ]
     },
     "metadata": {
      "needs_background": "light"
     },
     "output_type": "display_data"
    },
    {
     "name": "stdout",
     "output_type": "stream",
     "text": [
      "              precision    recall  f1-score   support\n",
      "\n",
      "         0.0       0.99      0.99      0.99      2108\n",
      "         1.0       0.99      0.99      0.99      2420\n",
      "         2.0       0.97      0.98      0.98      2066\n",
      "         3.0       0.98      0.98      0.98      2111\n",
      "         4.0       0.98      0.98      0.98      2029\n",
      "         5.0       0.98      0.96      0.97      1825\n",
      "         6.0       0.97      0.99      0.98      2071\n",
      "         7.0       0.98      0.98      0.98      2242\n",
      "         8.0       0.97      0.98      0.98      1992\n",
      "         9.0       0.98      0.96      0.97      2136\n",
      "\n",
      "    accuracy                           0.98     21000\n",
      "   macro avg       0.98      0.98      0.98     21000\n",
      "weighted avg       0.98      0.98      0.98     21000\n",
      "\n"
     ]
    }
   ],
   "source": [
    "model = Sequential(\n",
    "    Linear(784, 256),\n",
    "    BatchNorm(256),\n",
    "    ReLU(),\n",
    "    Linear(256, 64),\n",
    "    BatchNorm(64),\n",
    "    ReLU(),\n",
    "    Linear(64, 16),\n",
    "    BatchNorm(16),\n",
    "    ReLU(),\n",
    "    Linear(16, 10),\n",
    "    SoftMax()\n",
    ")\n",
    "\n",
    "criterion = CrossEntropy()\n",
    "optimizer = Momentum(model.parameters())\n",
    "\n",
    "train(model, criterion, optimizer, x_train, y_train, epochs=20)\n",
    "print(evaluate(model, x_test, y_test))"
   ]
  },
  {
   "cell_type": "code",
   "execution_count": 159,
   "metadata": {},
   "outputs": [
    {
     "name": "stderr",
     "output_type": "stream",
     "text": [
      "100%|████████████████████████████████████████████████████████████████████████████████████████████████████████████████████████████████████████████████████████████████████████████████| 60/60 [03:08<00:00,  3.15s/it]\n"
     ]
    },
    {
     "data": {
      "image/png": "[encoded data removed]",
      "text/plain": [
       "<Figure size 432x288 with 1 Axes>"
      ]
     },
     "metadata": {
      "needs_background": "light"
     },
     "output_type": "display_data"
    },
    {
     "name": "stdout",
     "output_type": "stream",
     "text": [
      "              precision    recall  f1-score   support\n",
      "\n",
      "         0.0       0.99      0.99      0.99      2108\n",
      "         1.0       0.99      0.99      0.99      2420\n",
      "         2.0       0.97      0.98      0.97      2066\n",
      "         3.0       0.98      0.98      0.98      2111\n",
      "         4.0       0.98      0.98      0.98      2029\n",
      "         5.0       0.97      0.98      0.97      1825\n",
      "         6.0       0.98      0.98      0.98      2071\n",
      "         7.0       0.98      0.98      0.98      2242\n",
      "         8.0       0.98      0.98      0.98      1992\n",
      "         9.0       0.98      0.97      0.97      2136\n",
      "\n",
      "    accuracy                           0.98     21000\n",
      "   macro avg       0.98      0.98      0.98     21000\n",
      "weighted avg       0.98      0.98      0.98     21000\n",
      "\n"
     ]
    }
   ],
   "source": [
    "model = Sequential(\n",
    "    Linear(784, 256),\n",
    "    BatchNorm(256),\n",
    "    ReLU(),\n",
    "    Linear(256, 64),\n",
    "    BatchNorm(64),\n",
    "    ReLU(),\n",
    "    Linear(64, 16),\n",
    "    BatchNorm(16),\n",
    "    ReLU(),\n",
    "    Linear(16, 10),\n",
    "    SoftMax()\n",
    ")\n",
    "\n",
    "criterion = CrossEntropy()\n",
    "optimizer = AdaGrad(model.parameters(), lr=0.01)\n",
    "\n",
    "train(model, criterion, optimizer, x_train, y_train, epochs=60)\n",
    "print(evaluate(model, x_test, y_test))"
   ]
  },
  {
   "cell_type": "code",
   "execution_count": 92,
   "metadata": {},
   "outputs": [
    {
     "name": "stderr",
     "output_type": "stream",
     "text": [
      "100%|████████████████████████████████████████████████████████████████████████████████████████████████████████████████████████████████████████████████████████████████████████████████| 30/30 [02:26<00:00,  4.88s/it]\n"
     ]
    },
    {
     "data": {
      "image/png": "[encoded data removed]",
      "text/plain": [
       "<Figure size 432x288 with 1 Axes>"
      ]
     },
     "metadata": {
      "needs_background": "light"
     },
     "output_type": "display_data"
    },
    {
     "name": "stdout",
     "output_type": "stream",
     "text": [
      "              precision    recall  f1-score   support\n",
      "\n",
      "         0.0       0.99      0.99      0.99      2118\n",
      "         1.0       0.99      0.99      0.99      2360\n",
      "         2.0       0.98      0.98      0.98      2126\n",
      "         3.0       0.98      0.98      0.98      2150\n",
      "         4.0       0.98      0.99      0.98      2020\n",
      "         5.0       0.98      0.98      0.98      1829\n",
      "         6.0       0.99      0.99      0.99      2087\n",
      "         7.0       0.97      0.98      0.98      2157\n",
      "         8.0       0.98      0.98      0.98      2039\n",
      "         9.0       0.98      0.97      0.98      2114\n",
      "\n",
      "    accuracy                           0.98     21000\n",
      "   macro avg       0.98      0.98      0.98     21000\n",
      "weighted avg       0.98      0.98      0.98     21000\n",
      "\n"
     ]
    }
   ],
   "source": [
    "model = Sequential(\n",
    "    Linear(784, 256),\n",
    "    BatchNorm(256),\n",
    "    ReLU(),\n",
    "    Linear(256, 64),\n",
    "    BatchNorm(64),\n",
    "    ReLU(),\n",
    "    Linear(64, 16),\n",
    "    BatchNorm(16),\n",
    "    ReLU(),\n",
    "    Linear(16, 10),\n",
    "    SoftMax()\n",
    ")\n",
    "\n",
    "criterion = CrossEntropy()\n",
    "optimizer = AdaGrad(model.parameters(), lr=0.05)\n",
    "\n",
    "train(model, criterion, optimizer, x_train, y_train, epochs=30)\n",
    "print(evaluate(model, x_test, y_test))"
   ]
  },
  {
   "cell_type": "code",
   "execution_count": 101,
   "metadata": {},
   "outputs": [
    {
     "name": "stderr",
     "output_type": "stream",
     "text": [
      "100%|████████████████████████████████████████████████████████████████████████████████████████████████████████████████████████████████████████████████████████████████████████████████| 30/30 [02:31<00:00,  5.07s/it]\n"
     ]
    },
    {
     "data": {
      "image/png": "[encoded data removed]",
      "text/plain": [
       "<Figure size 432x288 with 1 Axes>"
      ]
     },
     "metadata": {
      "needs_background": "light"
     },
     "output_type": "display_data"
    },
    {
     "name": "stdout",
     "output_type": "stream",
     "text": [
      "              precision    recall  f1-score   support\n",
      "\n",
      "         0.0       0.99      0.99      0.99      2118\n",
      "         1.0       0.98      0.99      0.99      2360\n",
      "         2.0       0.98      0.98      0.98      2126\n",
      "         3.0       0.99      0.96      0.97      2150\n",
      "         4.0       0.97      0.98      0.98      2020\n",
      "         5.0       0.96      0.98      0.97      1829\n",
      "         6.0       0.99      0.99      0.99      2087\n",
      "         7.0       0.97      0.98      0.98      2157\n",
      "         8.0       0.98      0.97      0.97      2039\n",
      "         9.0       0.98      0.97      0.97      2114\n",
      "\n",
      "    accuracy                           0.98     21000\n",
      "   macro avg       0.98      0.98      0.98     21000\n",
      "weighted avg       0.98      0.98      0.98     21000\n",
      "\n"
     ]
    }
   ],
   "source": [
    "model = Sequential(\n",
    "    Linear(784, 256),\n",
    "    BatchNorm(256),\n",
    "    ReLU(),\n",
    "    Linear(256, 64),\n",
    "    BatchNorm(64),\n",
    "    ReLU(),\n",
    "    Linear(64, 16),\n",
    "    BatchNorm(16),\n",
    "    ReLU(),\n",
    "    Linear(16, 10),\n",
    "    SoftMax()\n",
    ")\n",
    "\n",
    "criterion = CrossEntropy()\n",
    "optimizer = RMSProp(model.parameters())\n",
    "\n",
    "train(model, criterion, optimizer, x_train, y_train, epochs=30)\n",
    "print(evaluate(model, x_test, y_test))"
   ]
  },
  {
   "cell_type": "code",
   "execution_count": 104,
   "metadata": {},
   "outputs": [
    {
     "name": "stderr",
     "output_type": "stream",
     "text": [
      "100%|████████████████████████████████████████████████████████████████████████████████████████████████████████████████████████████████████████████████████████████████████████████████| 50/50 [04:41<00:00,  5.62s/it]\n"
     ]
    },
    {
     "data": {
      "image/png": "[encoded data removed]",
      "text/plain": [
       "<Figure size 432x288 with 1 Axes>"
      ]
     },
     "metadata": {
      "needs_background": "light"
     },
     "output_type": "display_data"
    },
    {
     "name": "stdout",
     "output_type": "stream",
     "text": [
      "              precision    recall  f1-score   support\n",
      "\n",
      "         0.0       0.98      0.99      0.99      2118\n",
      "         1.0       0.98      0.99      0.99      2360\n",
      "         2.0       0.97      0.97      0.97      2126\n",
      "         3.0       0.98      0.97      0.97      2150\n",
      "         4.0       0.98      0.98      0.98      2020\n",
      "         5.0       0.97      0.97      0.97      1829\n",
      "         6.0       0.99      0.98      0.98      2087\n",
      "         7.0       0.98      0.98      0.98      2157\n",
      "         8.0       0.97      0.97      0.97      2039\n",
      "         9.0       0.97      0.96      0.97      2114\n",
      "\n",
      "    accuracy                           0.98     21000\n",
      "   macro avg       0.98      0.98      0.98     21000\n",
      "weighted avg       0.98      0.98      0.98     21000\n",
      "\n"
     ]
    }
   ],
   "source": [
    "model = Sequential(\n",
    "    Linear(784, 256),\n",
    "    BatchNorm(256),\n",
    "    ReLU(),\n",
    "    Linear(256, 64),\n",
    "    BatchNorm(64),\n",
    "    ReLU(),\n",
    "    Linear(64, 16),\n",
    "    BatchNorm(16),\n",
    "    ReLU(),\n",
    "    Linear(16, 10),\n",
    "    SoftMax()\n",
    ")\n",
    "\n",
    "criterion = CrossEntropy()\n",
    "optimizer = AdaDelta(model.parameters())\n",
    "\n",
    "train(model, criterion, optimizer, x_train, y_train, epochs=50)\n",
    "print(evaluate(model, x_test, y_test))"
   ]
  },
  {
   "cell_type": "code",
   "execution_count": 134,
   "metadata": {},
   "outputs": [
    {
     "name": "stderr",
     "output_type": "stream",
     "text": [
      "100%|████████████████████████████████████████████████████████████████████████████████████████████████████████████████████████████████████████████████████████████████████████████████| 50/50 [04:34<00:00,  5.48s/it]\n"
     ]
    },
    {
     "data": {
      "image/png": "[encoded data removed]",
      "text/plain": [
       "<Figure size 432x288 with 1 Axes>"
      ]
     },
     "metadata": {
      "needs_background": "light"
     },
     "output_type": "display_data"
    },
    {
     "name": "stdout",
     "output_type": "stream",
     "text": [
      "              precision    recall  f1-score   support\n",
      "\n",
      "         0.0       0.98      0.99      0.99      2118\n",
      "         1.0       0.99      0.99      0.99      2360\n",
      "         2.0       0.98      0.98      0.98      2126\n",
      "         3.0       0.99      0.97      0.98      2150\n",
      "         4.0       0.98      0.98      0.98      2020\n",
      "         5.0       0.98      0.98      0.98      1829\n",
      "         6.0       0.99      0.98      0.99      2087\n",
      "         7.0       0.98      0.98      0.98      2157\n",
      "         8.0       0.97      0.98      0.98      2039\n",
      "         9.0       0.98      0.98      0.98      2114\n",
      "\n",
      "    accuracy                           0.98     21000\n",
      "   macro avg       0.98      0.98      0.98     21000\n",
      "weighted avg       0.98      0.98      0.98     21000\n",
      "\n"
     ]
    }
   ],
   "source": [
    "model = Sequential(\n",
    "    Linear(784, 256),\n",
    "    BatchNorm(256),\n",
    "    ReLU(),\n",
    "    Linear(256, 64),\n",
    "    BatchNorm(64),\n",
    "    ReLU(),\n",
    "    Linear(64, 16),\n",
    "    BatchNorm(16),\n",
    "    ReLU(),\n",
    "    Linear(16, 10),\n",
    "    SoftMax()\n",
    ")\n",
    "\n",
    "criterion = CrossEntropy()\n",
    "optimizer = Adam(model.parameters())\n",
    "\n",
    "train(model, criterion, optimizer, x_train, y_train, epochs=50)\n",
    "print(evaluate(model, x_test, y_test))"
   ]
  },
  {
   "cell_type": "markdown",
   "metadata": {},
   "source": [
    "### Add Dropout"
   ]
  },
  {
   "cell_type": "code",
   "execution_count": 240,
   "metadata": {
    "scrolled": true
   },
   "outputs": [
    {
     "name": "stderr",
     "output_type": "stream",
     "text": [
      "  4%|██▋                                                                 | 1/25 [00:00<00:04,  5.89it/s]"
     ]
    },
    {
     "name": "stdout",
     "output_type": "stream",
     "text": [
      "32.30766951618413\n"
     ]
    },
    {
     "name": "stderr",
     "output_type": "stream",
     "text": [
      "\r",
      "  8%|█████▍                                                              | 2/25 [00:00<00:05,  4.49it/s]"
     ]
    },
    {
     "name": "stdout",
     "output_type": "stream",
     "text": [
      "32.72599544398609\n"
     ]
    },
    {
     "name": "stderr",
     "output_type": "stream",
     "text": [
      " 16%|██████████▉                                                         | 4/25 [00:00<00:04,  4.47it/s]"
     ]
    },
    {
     "name": "stdout",
     "output_type": "stream",
     "text": [
      "33.02205970546695\n",
      "33.24989055627002\n"
     ]
    },
    {
     "name": "stderr",
     "output_type": "stream",
     "text": [
      " 24%|████████████████▎                                                   | 6/25 [00:01<00:03,  5.42it/s]"
     ]
    },
    {
     "name": "stdout",
     "output_type": "stream",
     "text": [
      "33.43679544146655\n",
      "33.5843731112834\n"
     ]
    },
    {
     "name": "stderr",
     "output_type": "stream",
     "text": [
      " 32%|█████████████████████▊                                              | 8/25 [00:01<00:03,  5.48it/s]"
     ]
    },
    {
     "name": "stdout",
     "output_type": "stream",
     "text": [
      "33.70271901215323\n",
      "33.798123035320266\n"
     ]
    },
    {
     "name": "stderr",
     "output_type": "stream",
     "text": [
      " 40%|██████████████████████████▊                                        | 10/25 [00:01<00:02,  5.52it/s]"
     ]
    },
    {
     "name": "stdout",
     "output_type": "stream",
     "text": [
      "33.873993872940744\n",
      "33.93549019366898\n"
     ]
    },
    {
     "name": "stderr",
     "output_type": "stream",
     "text": [
      " 48%|████████████████████████████████▏                                  | 12/25 [00:02<00:02,  5.78it/s]"
     ]
    },
    {
     "name": "stdout",
     "output_type": "stream",
     "text": [
      "33.99210257190634\n",
      "34.03963887801902\n"
     ]
    },
    {
     "name": "stderr",
     "output_type": "stream",
     "text": [
      "\r",
      " 52%|██████████████████████████████████▊                                | 13/25 [00:02<00:01,  6.03it/s]"
     ]
    },
    {
     "name": "stdout",
     "output_type": "stream",
     "text": [
      "34.076160204185214\n"
     ]
    },
    {
     "name": "stderr",
     "output_type": "stream",
     "text": [
      "\r",
      " 56%|█████████████████████████████████████▌                             | 14/25 [00:02<00:03,  3.47it/s]"
     ]
    },
    {
     "name": "stdout",
     "output_type": "stream",
     "text": [
      "34.10572585489627\n"
     ]
    },
    {
     "name": "stderr",
     "output_type": "stream",
     "text": [
      "\r",
      " 60%|████████████████████████████████████████▏                          | 15/25 [00:04<00:05,  1.94it/s]"
     ]
    },
    {
     "name": "stdout",
     "output_type": "stream",
     "text": [
      "34.136828371826745\n"
     ]
    },
    {
     "name": "stderr",
     "output_type": "stream",
     "text": [
      " 68%|█████████████████████████████████████████████▌                     | 17/25 [00:04<00:03,  2.35it/s]"
     ]
    },
    {
     "name": "stdout",
     "output_type": "stream",
     "text": [
      "34.1610891086026\n",
      "34.18998635376648\n"
     ]
    },
    {
     "name": "stderr",
     "output_type": "stream",
     "text": [
      " 76%|██████████████████████████████████████████████████▉                | 19/25 [00:05<00:01,  3.60it/s]"
     ]
    },
    {
     "name": "stdout",
     "output_type": "stream",
     "text": [
      "34.217204057440796\n",
      "34.24060207621052\n"
     ]
    },
    {
     "name": "stderr",
     "output_type": "stream",
     "text": [
      " 84%|████████████████████████████████████████████████████████▎          | 21/25 [00:05<00:00,  4.82it/s]"
     ]
    },
    {
     "name": "stdout",
     "output_type": "stream",
     "text": [
      "34.26057140156491\n",
      "34.28065423505371\n"
     ]
    },
    {
     "name": "stderr",
     "output_type": "stream",
     "text": [
      " 92%|█████████████████████████████████████████████████████████████▋     | 23/25 [00:05<00:00,  5.72it/s]"
     ]
    },
    {
     "name": "stdout",
     "output_type": "stream",
     "text": [
      "34.29923686677233\n",
      "34.317853914266095\n"
     ]
    },
    {
     "name": "stderr",
     "output_type": "stream",
     "text": [
      "100%|███████████████████████████████████████████████████████████████████| 25/25 [00:05<00:00,  4.22it/s]"
     ]
    },
    {
     "name": "stdout",
     "output_type": "stream",
     "text": [
      "34.33498205801526\n",
      "34.35690286135377\n"
     ]
    },
    {
     "name": "stderr",
     "output_type": "stream",
     "text": [
      "\n"
     ]
    },
    {
     "data": {
      "image/png": "[encoded data removed]",
      "text/plain": [
       "<Figure size 432x288 with 1 Axes>"
      ]
     },
     "metadata": {
      "needs_background": "light"
     },
     "output_type": "display_data"
    },
    {
     "data": {
      "image/png": "[encoded data removed]",
      "text/plain": [
       "<Figure size 432x288 with 1 Axes>"
      ]
     },
     "metadata": {
      "needs_background": "light"
     },
     "output_type": "display_data"
    },
    {
     "name": "stdout",
     "output_type": "stream",
     "text": [
      "              precision    recall  f1-score   support\n",
      "\n",
      "         0.0    0.97581   0.99180   0.98374       122\n",
      "         1.0    0.93985   0.98425   0.96154       127\n",
      "         2.0    0.91525   0.88525   0.90000       122\n",
      "         3.0    0.96000   0.87591   0.91603       137\n",
      "         4.0    0.88550   0.94309   0.91339       123\n",
      "         5.0    0.91489   0.88660   0.90052        97\n",
      "         6.0    0.91736   0.96522   0.94068       115\n",
      "         7.0    0.92517   0.95775   0.94118       142\n",
      "         8.0    0.96907   0.85455   0.90821       110\n",
      "         9.0    0.89091   0.93333   0.91163       105\n",
      "\n",
      "    accuracy                        0.92917      1200\n",
      "   macro avg    0.92938   0.92777   0.92769      1200\n",
      "weighted avg    0.93022   0.92917   0.92881      1200\n",
      "\n"
     ]
    }
   ],
   "source": [
    "model = Sequential(\n",
    "    Linear(784, 256),\n",
    "    BatchNorm(256),\n",
    "    ReLU(),\n",
    "    Linear(256, 64),\n",
    "    BatchNorm(64),\n",
    "    ReLU(),\n",
    "    Linear(64, 16),\n",
    "    BatchNorm(16),\n",
    "    ReLU(),\n",
    "    Linear(16, 10),\n",
    "    SoftMax()\n",
    ")\n",
    "\n",
    "criterion = CrossEntropy()\n",
    "optimizer = Adam(model.parameters())\n",
    "\n",
    "train(model, criterion, optimizer, x_train, y_train, epochs=25)\n",
    "print(evaluate(model, x_test, y_test))"
   ]
  },
  {
   "cell_type": "code",
   "execution_count": 241,
   "metadata": {},
   "outputs": [
    {
     "name": "stderr",
     "output_type": "stream",
     "text": [
      "  3%|█▉                                                                  | 1/35 [00:00<00:07,  4.33it/s]"
     ]
    },
    {
     "name": "stdout",
     "output_type": "stream",
     "text": [
      "36.66283947862665\n",
      "42.149144344986865"
     ]
    },
    {
     "name": "stderr",
     "output_type": "stream",
     "text": [
      "\r",
      "  6%|███▉                                                                | 2/35 [00:00<00:07,  4.69it/s]"
     ]
    },
    {
     "name": "stdout",
     "output_type": "stream",
     "text": [
      "\n"
     ]
    },
    {
     "name": "stderr",
     "output_type": "stream",
     "text": [
      "\r",
      "  9%|█████▊                                                              | 3/35 [00:02<00:28,  1.14it/s]"
     ]
    },
    {
     "name": "stdout",
     "output_type": "stream",
     "text": [
      "44.51792062503417\n"
     ]
    },
    {
     "name": "stderr",
     "output_type": "stream",
     "text": [
      "\r",
      " 11%|███████▊                                                            | 4/35 [00:02<00:25,  1.23it/s]"
     ]
    },
    {
     "name": "stdout",
     "output_type": "stream",
     "text": [
      "45.88575996809063\n"
     ]
    },
    {
     "name": "stderr",
     "output_type": "stream",
     "text": [
      "\r",
      " 14%|█████████▋                                                          | 5/35 [00:03<00:18,  1.60it/s]"
     ]
    },
    {
     "name": "stdout",
     "output_type": "stream",
     "text": [
      "47.075790341848226\n"
     ]
    },
    {
     "name": "stderr",
     "output_type": "stream",
     "text": [
      "\r",
      " 17%|███████████▋                                                        | 6/35 [00:03<00:14,  2.05it/s]"
     ]
    },
    {
     "name": "stdout",
     "output_type": "stream",
     "text": [
      "48.32038043755868\n"
     ]
    },
    {
     "name": "stderr",
     "output_type": "stream",
     "text": [
      " 23%|███████████████▌                                                    | 8/35 [00:03<00:09,  2.98it/s]"
     ]
    },
    {
     "name": "stdout",
     "output_type": "stream",
     "text": [
      "49.631639162158386\n",
      "51.07497157615271\n"
     ]
    },
    {
     "name": "stderr",
     "output_type": "stream",
     "text": [
      " 29%|███████████████████▏                                               | 10/35 [00:04<00:06,  3.89it/s]"
     ]
    },
    {
     "name": "stdout",
     "output_type": "stream",
     "text": [
      "52.47492923947099\n",
      "53.8107810827798\n"
     ]
    },
    {
     "name": "stderr",
     "output_type": "stream",
     "text": [
      " 34%|██████████████████████▉                                            | 12/35 [00:04<00:05,  4.51it/s]"
     ]
    },
    {
     "name": "stdout",
     "output_type": "stream",
     "text": [
      "55.1104878300524\n",
      "56.404559200351365\n"
     ]
    },
    {
     "name": "stderr",
     "output_type": "stream",
     "text": [
      "\r",
      " 37%|████████████████████████▉                                          | 13/35 [00:05<00:10,  2.16it/s]"
     ]
    },
    {
     "name": "stdout",
     "output_type": "stream",
     "text": [
      "57.665584615074586\n"
     ]
    },
    {
     "name": "stderr",
     "output_type": "stream",
     "text": [
      " 43%|████████████████████████████▋                                      | 15/35 [00:06<00:10,  1.85it/s]"
     ]
    },
    {
     "name": "stdout",
     "output_type": "stream",
     "text": [
      "58.94125574543822\n",
      "60.19797658614721\n"
     ]
    },
    {
     "name": "stderr",
     "output_type": "stream",
     "text": [
      "\r",
      " 46%|██████████████████████████████▋                                    | 16/35 [00:07<00:08,  2.30it/s]"
     ]
    },
    {
     "name": "stdout",
     "output_type": "stream",
     "text": [
      "61.30234790955922\n"
     ]
    },
    {
     "name": "stderr",
     "output_type": "stream",
     "text": [
      "\r",
      " 49%|████████████████████████████████▌                                  | 17/35 [00:07<00:07,  2.37it/s]"
     ]
    },
    {
     "name": "stdout",
     "output_type": "stream",
     "text": [
      "62.330827598349714\n"
     ]
    },
    {
     "name": "stderr",
     "output_type": "stream",
     "text": [
      "\r",
      " 51%|██████████████████████████████████▍                                | 18/35 [00:07<00:06,  2.67it/s]"
     ]
    },
    {
     "name": "stdout",
     "output_type": "stream",
     "text": [
      "63.34726970790847\n"
     ]
    },
    {
     "name": "stderr",
     "output_type": "stream",
     "text": [
      " 57%|██████████████████████████████████████▎                            | 20/35 [00:08<00:04,  3.51it/s]"
     ]
    },
    {
     "name": "stdout",
     "output_type": "stream",
     "text": [
      "64.33393652518143\n",
      "65.21745311156538\n"
     ]
    },
    {
     "name": "stderr",
     "output_type": "stream",
     "text": [
      " 63%|██████████████████████████████████████████                         | 22/35 [00:08<00:03,  4.11it/s]"
     ]
    },
    {
     "name": "stdout",
     "output_type": "stream",
     "text": [
      "66.10260704360053\n",
      "67.00558451354046\n"
     ]
    },
    {
     "name": "stderr",
     "output_type": "stream",
     "text": [
      "\r",
      " 66%|████████████████████████████████████████████                       | 23/35 [00:09<00:05,  2.33it/s]"
     ]
    },
    {
     "name": "stdout",
     "output_type": "stream",
     "text": [
      "67.8699818998031\n"
     ]
    },
    {
     "name": "stderr",
     "output_type": "stream",
     "text": [
      " 71%|███████████████████████████████████████████████▊                   | 25/35 [00:10<00:05,  1.83it/s]"
     ]
    },
    {
     "name": "stdout",
     "output_type": "stream",
     "text": [
      "68.65733253654274\n",
      "69.37603695892152\n"
     ]
    },
    {
     "name": "stderr",
     "output_type": "stream",
     "text": [
      " 77%|███████████████████████████████████████████████████▋               | 27/35 [00:11<00:02,  2.78it/s]"
     ]
    },
    {
     "name": "stdout",
     "output_type": "stream",
     "text": [
      "70.14371733427512\n",
      "70.87081159620115\n"
     ]
    },
    {
     "name": "stderr",
     "output_type": "stream",
     "text": [
      " 83%|███████████████████████████████████████████████████████▌           | 29/35 [00:11<00:01,  3.66it/s]"
     ]
    },
    {
     "name": "stdout",
     "output_type": "stream",
     "text": [
      "71.74456238004923\n",
      "72.50407655809785\n"
     ]
    },
    {
     "name": "stderr",
     "output_type": "stream",
     "text": [
      " 89%|███████████████████████████████████████████████████████████▎       | 31/35 [00:12<00:00,  4.01it/s]"
     ]
    },
    {
     "name": "stdout",
     "output_type": "stream",
     "text": [
      "73.15537139843241\n",
      "73.813892596217\n"
     ]
    },
    {
     "name": "stderr",
     "output_type": "stream",
     "text": [
      " 94%|███████████████████████████████████████████████████████████████▏   | 33/35 [00:12<00:00,  4.55it/s]"
     ]
    },
    {
     "name": "stdout",
     "output_type": "stream",
     "text": [
      "74.47619107453706\n",
      "75.03264714572461\n"
     ]
    },
    {
     "name": "stderr",
     "output_type": "stream",
     "text": [
      "\r",
      " 97%|█████████████████████████████████████████████████████████████████  | 34/35 [00:12<00:00,  4.70it/s]"
     ]
    },
    {
     "name": "stdout",
     "output_type": "stream",
     "text": [
      "75.63607093462205\n"
     ]
    },
    {
     "name": "stderr",
     "output_type": "stream",
     "text": [
      "100%|███████████████████████████████████████████████████████████████████| 35/35 [00:14<00:00,  2.50it/s]"
     ]
    },
    {
     "name": "stdout",
     "output_type": "stream",
     "text": [
      "76.34614449414715\n"
     ]
    },
    {
     "name": "stderr",
     "output_type": "stream",
     "text": [
      "\n"
     ]
    },
    {
     "data": {
      "image/png": "[encoded data removed]",
      "text/plain": [
       "<Figure size 432x288 with 1 Axes>"
      ]
     },
     "metadata": {
      "needs_background": "light"
     },
     "output_type": "display_data"
    },
    {
     "data": {
      "image/png": "[encoded data removed]",
      "text/plain": [
       "<Figure size 432x288 with 1 Axes>"
      ]
     },
     "metadata": {
      "needs_background": "light"
     },
     "output_type": "display_data"
    },
    {
     "name": "stdout",
     "output_type": "stream",
     "text": [
      "              precision    recall  f1-score   support\n",
      "\n",
      "         0.0    0.96748   0.97541   0.97143       122\n",
      "         1.0    0.93985   0.98425   0.96154       127\n",
      "         2.0    0.93103   0.88525   0.90756       122\n",
      "         3.0    0.95200   0.86861   0.90840       137\n",
      "         4.0    0.88060   0.95935   0.91829       123\n",
      "         5.0    0.84314   0.88660   0.86432        97\n",
      "         6.0    0.92500   0.96522   0.94468       115\n",
      "         7.0    0.94074   0.89437   0.91697       142\n",
      "         8.0    0.95050   0.87273   0.90995       110\n",
      "         9.0    0.86486   0.91429   0.88889       105\n",
      "\n",
      "    accuracy                        0.92083      1200\n",
      "   macro avg    0.91952   0.92061   0.91920      1200\n",
      "weighted avg    0.92236   0.92083   0.92072      1200\n",
      "\n"
     ]
    }
   ],
   "source": [
    "model = Sequential(\n",
    "    Dropout(0.85),\n",
    "    Linear(784, 256),\n",
    "    BatchNorm(256),\n",
    "    ReLU(),\n",
    "    Dropout(0.6),\n",
    "    Linear(256, 64),\n",
    "    BatchNorm(64),\n",
    "    ReLU(),\n",
    "    Dropout(0.6),\n",
    "    Linear(64, 16),\n",
    "    BatchNorm(16),\n",
    "    ReLU(),\n",
    "    Dropout(0.6),\n",
    "    Linear(16, 10),\n",
    "    SoftMax()\n",
    ")\n",
    "\n",
    "criterion = CrossEntropy()\n",
    "optimizer = Adam(model.parameters(), lr=5e-3)\n",
    "\n",
    "train(model, criterion, optimizer, x_train, y_train, epochs=35)\n",
    "print(evaluate(model, x_test, y_test))"
   ]
  },
  {
   "cell_type": "code",
   "execution_count": 242,
   "metadata": {
    "scrolled": true
   },
   "outputs": [
    {
     "name": "stderr",
     "output_type": "stream",
     "text": [
      "  3%|█▉                                                                  | 1/35 [00:00<00:12,  2.79it/s]"
     ]
    },
    {
     "name": "stdout",
     "output_type": "stream",
     "text": [
      "35.231267948064655\n"
     ]
    },
    {
     "name": "stderr",
     "output_type": "stream",
     "text": [
      "\r",
      "  6%|███▉                                                                | 2/35 [00:00<00:11,  2.77it/s]"
     ]
    },
    {
     "name": "stdout",
     "output_type": "stream",
     "text": [
      "38.397693086881404\n"
     ]
    },
    {
     "name": "stderr",
     "output_type": "stream",
     "text": [
      "\r",
      "  9%|█████▊                                                              | 3/35 [00:01<00:12,  2.65it/s]"
     ]
    },
    {
     "name": "stdout",
     "output_type": "stream",
     "text": [
      "37.3276425551512\n"
     ]
    },
    {
     "name": "stderr",
     "output_type": "stream",
     "text": [
      "\r",
      " 11%|███████▊                                                            | 4/35 [00:01<00:12,  2.56it/s]"
     ]
    },
    {
     "name": "stdout",
     "output_type": "stream",
     "text": [
      "36.42713814704613\n"
     ]
    },
    {
     "name": "stderr",
     "output_type": "stream",
     "text": [
      "\r",
      " 14%|█████████▋                                                          | 5/35 [00:01<00:11,  2.63it/s]"
     ]
    },
    {
     "name": "stdout",
     "output_type": "stream",
     "text": [
      "34.95570074241197\n"
     ]
    },
    {
     "name": "stderr",
     "output_type": "stream",
     "text": [
      "\r",
      " 17%|███████████▋                                                        | 6/35 [00:04<00:30,  1.07s/it]"
     ]
    },
    {
     "name": "stdout",
     "output_type": "stream",
     "text": [
      "33.986989589109825\n"
     ]
    },
    {
     "name": "stderr",
     "output_type": "stream",
     "text": [
      "\r",
      " 20%|█████████████▌                                                      | 7/35 [00:04<00:24,  1.16it/s]"
     ]
    },
    {
     "name": "stdout",
     "output_type": "stream",
     "text": [
      "32.98021902144898\n"
     ]
    },
    {
     "name": "stderr",
     "output_type": "stream",
     "text": [
      "\r",
      " 23%|███████████████▌                                                    | 8/35 [00:05<00:19,  1.42it/s]"
     ]
    },
    {
     "name": "stdout",
     "output_type": "stream",
     "text": [
      "32.491059367486635\n"
     ]
    },
    {
     "name": "stderr",
     "output_type": "stream",
     "text": [
      "\r",
      " 26%|█████████████████▍                                                  | 9/35 [00:05<00:15,  1.64it/s]"
     ]
    },
    {
     "name": "stdout",
     "output_type": "stream",
     "text": [
      "32.70583025690853\n"
     ]
    },
    {
     "name": "stderr",
     "output_type": "stream",
     "text": [
      "\r",
      " 29%|███████████████████▏                                               | 10/35 [00:05<00:13,  1.84it/s]"
     ]
    },
    {
     "name": "stdout",
     "output_type": "stream",
     "text": [
      "32.68768947012543\n"
     ]
    },
    {
     "name": "stderr",
     "output_type": "stream",
     "text": [
      "\r",
      " 31%|█████████████████████                                              | 11/35 [00:08<00:27,  1.15s/it]"
     ]
    },
    {
     "name": "stdout",
     "output_type": "stream",
     "text": [
      "33.106621573457694\n"
     ]
    },
    {
     "name": "stderr",
     "output_type": "stream",
     "text": [
      "\r",
      " 34%|██████████████████████▉                                            | 12/35 [00:08<00:21,  1.07it/s]"
     ]
    },
    {
     "name": "stdout",
     "output_type": "stream",
     "text": [
      "33.78876016498137\n"
     ]
    },
    {
     "name": "stderr",
     "output_type": "stream",
     "text": [
      "\r",
      " 37%|████████████████████████▉                                          | 13/35 [00:09<00:17,  1.27it/s]"
     ]
    },
    {
     "name": "stdout",
     "output_type": "stream",
     "text": [
      "34.20955727209427\n"
     ]
    },
    {
     "name": "stderr",
     "output_type": "stream",
     "text": [
      "\r",
      " 40%|██████████████████████████▊                                        | 14/35 [00:09<00:14,  1.49it/s]"
     ]
    },
    {
     "name": "stdout",
     "output_type": "stream",
     "text": [
      "34.146451590095666\n"
     ]
    },
    {
     "name": "stderr",
     "output_type": "stream",
     "text": [
      "\r",
      " 43%|████████████████████████████▋                                      | 15/35 [00:10<00:11,  1.70it/s]"
     ]
    },
    {
     "name": "stdout",
     "output_type": "stream",
     "text": [
      "34.322417631324576\n"
     ]
    },
    {
     "name": "stderr",
     "output_type": "stream",
     "text": [
      "\r",
      " 46%|██████████████████████████████▋                                    | 16/35 [00:12<00:21,  1.13s/it]"
     ]
    },
    {
     "name": "stdout",
     "output_type": "stream",
     "text": [
      "34.50258521608898\n"
     ]
    },
    {
     "name": "stderr",
     "output_type": "stream",
     "text": [
      "\r",
      " 49%|████████████████████████████████▌                                  | 17/35 [00:12<00:16,  1.09it/s]"
     ]
    },
    {
     "name": "stdout",
     "output_type": "stream",
     "text": [
      "34.802046102537474\n"
     ]
    },
    {
     "name": "stderr",
     "output_type": "stream",
     "text": [
      "\r",
      " 51%|██████████████████████████████████▍                                | 18/35 [00:13<00:12,  1.31it/s]"
     ]
    },
    {
     "name": "stdout",
     "output_type": "stream",
     "text": [
      "34.98860569067782\n"
     ]
    },
    {
     "name": "stderr",
     "output_type": "stream",
     "text": [
      "\r",
      " 54%|████████████████████████████████████▎                              | 19/35 [00:13<00:10,  1.46it/s]"
     ]
    },
    {
     "name": "stdout",
     "output_type": "stream",
     "text": [
      "34.86133461736511\n"
     ]
    },
    {
     "name": "stderr",
     "output_type": "stream",
     "text": [
      "\r",
      " 57%|██████████████████████████████████████▎                            | 20/35 [00:15<00:15,  1.02s/it]"
     ]
    },
    {
     "name": "stdout",
     "output_type": "stream",
     "text": [
      "34.91394125177936\n"
     ]
    },
    {
     "name": "stderr",
     "output_type": "stream",
     "text": [
      "\r",
      " 60%|████████████████████████████████████████▏                          | 21/35 [00:16<00:15,  1.11s/it]"
     ]
    },
    {
     "name": "stdout",
     "output_type": "stream",
     "text": [
      "35.5235061089684\n"
     ]
    },
    {
     "name": "stderr",
     "output_type": "stream",
     "text": [
      "\r",
      " 63%|██████████████████████████████████████████                         | 22/35 [00:17<00:12,  1.08it/s]"
     ]
    },
    {
     "name": "stdout",
     "output_type": "stream",
     "text": [
      "35.570821106659906\n"
     ]
    },
    {
     "name": "stderr",
     "output_type": "stream",
     "text": [
      "\r",
      " 66%|████████████████████████████████████████████                       | 23/35 [00:17<00:09,  1.30it/s]"
     ]
    },
    {
     "name": "stdout",
     "output_type": "stream",
     "text": [
      "35.66558358408228\n"
     ]
    },
    {
     "name": "stderr",
     "output_type": "stream",
     "text": [
      "\r",
      " 69%|█████████████████████████████████████████████▉                     | 24/35 [00:18<00:07,  1.53it/s]"
     ]
    },
    {
     "name": "stdout",
     "output_type": "stream",
     "text": [
      "36.067332417995786\n"
     ]
    },
    {
     "name": "stderr",
     "output_type": "stream",
     "text": [
      "\r",
      " 71%|███████████████████████████████████████████████▊                   | 25/35 [00:20<00:12,  1.25s/it]"
     ]
    },
    {
     "name": "stdout",
     "output_type": "stream",
     "text": [
      "36.05035952426412\n"
     ]
    },
    {
     "name": "stderr",
     "output_type": "stream",
     "text": [
      "\r",
      " 74%|█████████████████████████████████████████████████▊                 | 26/35 [00:21<00:08,  1.00it/s]"
     ]
    },
    {
     "name": "stdout",
     "output_type": "stream",
     "text": [
      "35.98579030206452\n"
     ]
    },
    {
     "name": "stderr",
     "output_type": "stream",
     "text": [
      "\r",
      " 77%|███████████████████████████████████████████████████▋               | 27/35 [00:21<00:06,  1.22it/s]"
     ]
    },
    {
     "name": "stdout",
     "output_type": "stream",
     "text": [
      "36.060041378635816\n"
     ]
    },
    {
     "name": "stderr",
     "output_type": "stream",
     "text": [
      "\r",
      " 80%|█████████████████████████████████████████████████████▌             | 28/35 [00:22<00:04,  1.45it/s]"
     ]
    },
    {
     "name": "stdout",
     "output_type": "stream",
     "text": [
      "36.20133926714691\n"
     ]
    },
    {
     "name": "stderr",
     "output_type": "stream",
     "text": [
      "\r",
      " 83%|███████████████████████████████████████████████████████▌           | 29/35 [00:22<00:03,  1.64it/s]"
     ]
    },
    {
     "name": "stdout",
     "output_type": "stream",
     "text": [
      "36.44996471762178\n"
     ]
    },
    {
     "name": "stderr",
     "output_type": "stream",
     "text": [
      "\r",
      " 86%|█████████████████████████████████████████████████████████▍         | 30/35 [00:24<00:05,  1.15s/it]"
     ]
    },
    {
     "name": "stdout",
     "output_type": "stream",
     "text": [
      "35.90883753239445\n"
     ]
    },
    {
     "name": "stderr",
     "output_type": "stream",
     "text": [
      "\r",
      " 89%|███████████████████████████████████████████████████████████▎       | 31/35 [00:25<00:03,  1.04it/s]"
     ]
    },
    {
     "name": "stdout",
     "output_type": "stream",
     "text": [
      "35.79167517704107\n"
     ]
    },
    {
     "name": "stderr",
     "output_type": "stream",
     "text": [
      "\r",
      " 91%|█████████████████████████████████████████████████████████████▎     | 32/35 [00:25<00:02,  1.26it/s]"
     ]
    },
    {
     "name": "stdout",
     "output_type": "stream",
     "text": [
      "35.73270635278831\n"
     ]
    },
    {
     "name": "stderr",
     "output_type": "stream",
     "text": [
      "\r",
      " 94%|███████████████████████████████████████████████████████████████▏   | 33/35 [00:26<00:01,  1.50it/s]"
     ]
    },
    {
     "name": "stdout",
     "output_type": "stream",
     "text": [
      "36.05049421999092\n"
     ]
    },
    {
     "name": "stderr",
     "output_type": "stream",
     "text": [
      "\r",
      " 97%|█████████████████████████████████████████████████████████████████  | 34/35 [00:26<00:00,  1.73it/s]"
     ]
    },
    {
     "name": "stdout",
     "output_type": "stream",
     "text": [
      "36.67016574725261\n"
     ]
    },
    {
     "name": "stderr",
     "output_type": "stream",
     "text": [
      "100%|███████████████████████████████████████████████████████████████████| 35/35 [00:28<00:00,  1.21it/s]"
     ]
    },
    {
     "name": "stdout",
     "output_type": "stream",
     "text": [
      "36.267138877930115\n"
     ]
    },
    {
     "name": "stderr",
     "output_type": "stream",
     "text": [
      "\n"
     ]
    },
    {
     "data": {
      "image/png": "[encoded data removed]",
      "text/plain": [
       "<Figure size 432x288 with 1 Axes>"
      ]
     },
     "metadata": {
      "needs_background": "light"
     },
     "output_type": "display_data"
    },
    {
     "data": {
      "image/png": "[encoded data removed]",
      "text/plain": [
       "<Figure size 432x288 with 1 Axes>"
      ]
     },
     "metadata": {
      "needs_background": "light"
     },
     "output_type": "display_data"
    },
    {
     "name": "stdout",
     "output_type": "stream",
     "text": [
      "              precision    recall  f1-score   support\n",
      "\n",
      "         0.0    0.90977   0.99180   0.94902       122\n",
      "         1.0    0.91912   0.98425   0.95057       127\n",
      "         2.0    0.95192   0.81148   0.87611       122\n",
      "         3.0    0.97581   0.88321   0.92720       137\n",
      "         4.0    0.85075   0.92683   0.88716       123\n",
      "         5.0    0.88542   0.87629   0.88083        97\n",
      "         6.0    0.89600   0.97391   0.93333       115\n",
      "         7.0    0.93571   0.92254   0.92908       142\n",
      "         8.0    0.95238   0.90909   0.93023       110\n",
      "         9.0    0.89320   0.87619   0.88462       105\n",
      "\n",
      "    accuracy                        0.91667      1200\n",
      "   macro avg    0.91701   0.91556   0.91481      1200\n",
      "weighted avg    0.91877   0.91667   0.91621      1200\n",
      "\n"
     ]
    }
   ],
   "source": [
    "model = Sequential(\n",
    "    Dropout(0.85),\n",
    "    Linear(784, 256, max_norm=(6, 2)),\n",
    "    BatchNorm(256, max_norm=(32, 32)),\n",
    "    ReLU(),\n",
    "    Dropout(0.6),\n",
    "    Linear(256, 64, max_norm=(2, 1)),\n",
    "    BatchNorm(64, max_norm=(16, 16)),\n",
    "    ReLU(),\n",
    "    Dropout(0.6),\n",
    "    Linear(64, 16, max_norm=(1, 0.2)),\n",
    "    BatchNorm(16, max_norm=(8, 8)),\n",
    "    ReLU(),\n",
    "    Dropout(0.6),\n",
    "    Linear(16, 10),\n",
    "    SoftMax()\n",
    ")\n",
    "\n",
    "criterion = CrossEntropy()\n",
    "optimizer = Adam(model.parameters(), lr=5e-3)\n",
    "\n",
    "train(model, criterion, optimizer, x_train, y_train, epochs=35)\n",
    "print(evaluate(model, x_test, y_test))"
   ]
  },
  {
   "cell_type": "code",
   "execution_count": 195,
   "metadata": {},
   "outputs": [
    {
     "name": "stderr",
     "output_type": "stream",
     "text": [
      "100%|███████████████████████████████████████████████████████████████████| 15/15 [02:28<00:00,  9.89s/it]\n"
     ]
    },
    {
     "data": {
      "image/png": "[encoded data removed]",
      "text/plain": [
       "<Figure size 432x288 with 1 Axes>"
      ]
     },
     "metadata": {
      "needs_background": "light"
     },
     "output_type": "display_data"
    },
    {
     "data": {
      "image/png": "[encoded data removed]",
      "text/plain": [
       "<Figure size 432x288 with 1 Axes>"
      ]
     },
     "metadata": {
      "needs_background": "light"
     },
     "output_type": "display_data"
    },
    {
     "name": "stdout",
     "output_type": "stream",
     "text": [
      "              precision    recall  f1-score   support\n",
      "\n",
      "         0.0       0.98      0.99      0.98      1360\n",
      "         1.0       0.99      0.98      0.98      1610\n",
      "         2.0       0.98      0.98      0.98      1459\n",
      "         3.0       0.98      0.97      0.98      1385\n",
      "         4.0       0.99      0.98      0.98      1345\n",
      "         5.0       0.98      0.97      0.97      1227\n",
      "         6.0       0.98      0.99      0.98      1388\n",
      "         7.0       0.97      0.98      0.98      1466\n",
      "         8.0       0.96      0.97      0.97      1376\n",
      "         9.0       0.97      0.97      0.97      1384\n",
      "\n",
      "    accuracy                           0.98     14000\n",
      "   macro avg       0.98      0.98      0.98     14000\n",
      "weighted avg       0.98      0.98      0.98     14000\n",
      "\n"
     ]
    }
   ],
   "source": [
    "model = Sequential(\n",
    "    Dropout(0.85),\n",
    "    Linear(784, 256),\n",
    "    BatchNorm(256),\n",
    "    ReLU(),\n",
    "    Dropout(0.6),\n",
    "    Linear(256, 64),\n",
    "    BatchNorm(64),\n",
    "    ReLU(),\n",
    "    Dropout(0.6),\n",
    "    Linear(64, 16),\n",
    "    BatchNorm(16),\n",
    "    ReLU(),\n",
    "    Dropout(0.6),\n",
    "    Linear(16, 10),\n",
    "    SoftMax()\n",
    ")\n",
    "\n",
    "criterion = CrossEntropy()\n",
    "optimizer = Adam(model.parameters())\n",
    "\n",
    "train(model, criterion, optimizer, x_train, y_train, epochs=15)\n",
    "print(evaluate(model, x_test, y_test))"
   ]
  },
  {
   "cell_type": "code",
   "execution_count": 198,
   "metadata": {},
   "outputs": [
    {
     "name": "stderr",
     "output_type": "stream",
     "text": [
      "100%|███████████████████████████████████████████████████████████████████| 15/15 [02:21<00:00,  9.41s/it]\n"
     ]
    },
    {
     "data": {
      "image/png": "[encoded data removed]",
      "text/plain": [
       "<Figure size 432x288 with 1 Axes>"
      ]
     },
     "metadata": {
      "needs_background": "light"
     },
     "output_type": "display_data"
    },
    {
     "data": {
      "image/png": "[encoded data removed]",
      "text/plain": [
       "<Figure size 432x288 with 1 Axes>"
      ]
     },
     "metadata": {
      "needs_background": "light"
     },
     "output_type": "display_data"
    },
    {
     "name": "stdout",
     "output_type": "stream",
     "text": [
      "              precision    recall  f1-score   support\n",
      "\n",
      "         0.0       0.98      0.99      0.98      1360\n",
      "         1.0       0.98      0.99      0.98      1610\n",
      "         2.0       0.97      0.98      0.97      1459\n",
      "         3.0       0.98      0.96      0.97      1385\n",
      "         4.0       0.97      0.98      0.98      1345\n",
      "         5.0       0.97      0.97      0.97      1227\n",
      "         6.0       0.99      0.98      0.99      1388\n",
      "         7.0       0.98      0.97      0.97      1466\n",
      "         8.0       0.96      0.97      0.97      1376\n",
      "         9.0       0.96      0.96      0.96      1384\n",
      "\n",
      "    accuracy                           0.97     14000\n",
      "   macro avg       0.97      0.97      0.97     14000\n",
      "weighted avg       0.97      0.97      0.97     14000\n",
      "\n"
     ]
    }
   ],
   "source": [
    "model = Sequential(\n",
    "    Dropout(0.85),\n",
    "    Linear(784, 256),\n",
    "    BatchNorm(256),\n",
    "    ReLU(),\n",
    "    Dropout(0.6),\n",
    "    Linear(256, 64),\n",
    "    BatchNorm(64),\n",
    "    ReLU(),\n",
    "    Dropout(0.6),\n",
    "    Linear(64, 16),\n",
    "    BatchNorm(16),\n",
    "    ReLU(),\n",
    "    Dropout(0.6),\n",
    "    Linear(16, 10),\n",
    "    SoftMax()\n",
    ")\n",
    "\n",
    "criterion = CrossEntropy()\n",
    "optimizer = Adam(model.parameters())\n",
    "\n",
    "train(model, criterion, optimizer, x_train, y_train, epochs=15)\n",
    "print(evaluate(model, x_test, y_test))"
   ]
  },
  {
   "cell_type": "code",
   "execution_count": 199,
   "metadata": {
    "scrolled": true
   },
   "outputs": [
    {
     "name": "stderr",
     "output_type": "stream",
     "text": [
      "100%|███████████████████████████████████████████████████████████████████| 50/50 [06:07<00:00,  7.36s/it]\n"
     ]
    },
    {
     "data": {
      "image/png": "[encoded data removed]",
      "text/plain": [
       "<Figure size 432x288 with 1 Axes>"
      ]
     },
     "metadata": {
      "needs_background": "light"
     },
     "output_type": "display_data"
    },
    {
     "data": {
      "image/png": "[encoded data removed]",
      "text/plain": [
       "<Figure size 432x288 with 1 Axes>"
      ]
     },
     "metadata": {
      "needs_background": "light"
     },
     "output_type": "display_data"
    },
    {
     "name": "stdout",
     "output_type": "stream",
     "text": [
      "              precision    recall  f1-score   support\n",
      "\n",
      "         0.0       0.98      0.99      0.99      1360\n",
      "         1.0       0.99      0.99      0.99      1610\n",
      "         2.0       0.97      0.98      0.98      1459\n",
      "         3.0       0.98      0.97      0.98      1385\n",
      "         4.0       0.99      0.98      0.99      1345\n",
      "         5.0       0.98      0.98      0.98      1227\n",
      "         6.0       0.99      0.99      0.99      1388\n",
      "         7.0       0.98      0.98      0.98      1466\n",
      "         8.0       0.98      0.97      0.97      1376\n",
      "         9.0       0.97      0.97      0.97      1384\n",
      "\n",
      "    accuracy                           0.98     14000\n",
      "   macro avg       0.98      0.98      0.98     14000\n",
      "weighted avg       0.98      0.98      0.98     14000\n",
      "\n"
     ]
    }
   ],
   "source": [
    "model = Sequential(\n",
    "    Dropout(0.85),\n",
    "    Linear(784, 256),\n",
    "    BatchNorm(256),\n",
    "    ReLU(),\n",
    "    Dropout(0.6),\n",
    "    Linear(256, 64),\n",
    "    BatchNorm(64),\n",
    "    ReLU(),\n",
    "    Dropout(0.6),\n",
    "    Linear(64, 16),\n",
    "    BatchNorm(16),\n",
    "    ReLU(),\n",
    "    Dropout(0.6),\n",
    "    Linear(16, 10),\n",
    "    SoftMax()\n",
    ")\n",
    "\n",
    "criterion = CrossEntropy()\n",
    "optimizer = Adam(model.parameters())\n",
    "\n",
    "train(model, criterion, optimizer, x_train, y_train, epochs=50)\n",
    "print(evaluate(model, x_test, y_test))"
   ]
  },
  {
   "cell_type": "code",
   "execution_count": 203,
   "metadata": {},
   "outputs": [
    {
     "name": "stderr",
     "output_type": "stream",
     "text": [
      "100%|███████████████████████████████████████████████████████████████████| 50/50 [08:00<00:00,  9.61s/it]\n"
     ]
    },
    {
     "data": {
      "image/png": "[encoded data removed]",
      "text/plain": [
       "<Figure size 432x288 with 1 Axes>"
      ]
     },
     "metadata": {
      "needs_background": "light"
     },
     "output_type": "display_data"
    },
    {
     "data": {
      "image/png": "[encoded data removed]",
      "text/plain": [
       "<Figure size 432x288 with 1 Axes>"
      ]
     },
     "metadata": {
      "needs_background": "light"
     },
     "output_type": "display_data"
    },
    {
     "name": "stdout",
     "output_type": "stream",
     "text": [
      "              precision    recall  f1-score   support\n",
      "\n",
      "         0.0    0.99259   0.98456   0.98856      1360\n",
      "         1.0    0.98398   0.99193   0.98794      1610\n",
      "         2.0    0.97666   0.97533   0.97599      1459\n",
      "         3.0    0.98754   0.97256   0.97999      1385\n",
      "         4.0    0.98876   0.98067   0.98470      1345\n",
      "         5.0    0.97557   0.97637   0.97597      1227\n",
      "         6.0    0.97514   0.98919   0.98212      1388\n",
      "         7.0    0.98218   0.97749   0.97983      1466\n",
      "         8.0    0.96429   0.98110   0.97262      1376\n",
      "         9.0    0.97388   0.96965   0.97176      1384\n",
      "\n",
      "    accuracy                        0.98007     14000\n",
      "   macro avg    0.98006   0.97988   0.97995     14000\n",
      "weighted avg    0.98013   0.98007   0.98008     14000\n",
      "\n"
     ]
    }
   ],
   "source": [
    "model = Sequential(\n",
    "    Dropout(0.85),\n",
    "    Linear(784, 256),\n",
    "    BatchNorm(256),\n",
    "    ReLU(),\n",
    "    Dropout(0.6),\n",
    "    Linear(256, 64),\n",
    "    BatchNorm(64),\n",
    "    ReLU(),\n",
    "    Dropout(0.6),\n",
    "    Linear(64, 16),\n",
    "    BatchNorm(16),\n",
    "    ReLU(),\n",
    "    Dropout(0.6),\n",
    "    Linear(16, 10),\n",
    "    SoftMax()\n",
    ")\n",
    "\n",
    "criterion = CrossEntropy()\n",
    "optimizer = Adam(model.parameters(), lr=3e-3)\n",
    "\n",
    "train(model, criterion, optimizer, x_train, y_train, epochs=50)\n",
    "print(evaluate(model, x_test, y_test))"
   ]
  },
  {
   "cell_type": "code",
   "execution_count": 201,
   "metadata": {},
   "outputs": [
    {
     "name": "stderr",
     "output_type": "stream",
     "text": [
      "100%|███████████████████████████████████████████████████████████████████| 50/50 [07:34<00:00,  9.08s/it]\n"
     ]
    },
    {
     "data": {
      "image/png": "[encoded data removed]",
      "text/plain": [
       "<Figure size 432x288 with 1 Axes>"
      ]
     },
     "metadata": {
      "needs_background": "light"
     },
     "output_type": "display_data"
    },
    {
     "data": {
      "image/png": "[encoded data removed]",
      "text/plain": [
       "<Figure size 432x288 with 1 Axes>"
      ]
     },
     "metadata": {
      "needs_background": "light"
     },
     "output_type": "display_data"
    },
    {
     "name": "stdout",
     "output_type": "stream",
     "text": [
      "              precision    recall  f1-score   support\n",
      "\n",
      "         0.0       0.98      0.99      0.99      1360\n",
      "         1.0       0.98      0.99      0.99      1610\n",
      "         2.0       0.98      0.98      0.98      1459\n",
      "         3.0       0.97      0.98      0.98      1385\n",
      "         4.0       0.99      0.98      0.99      1345\n",
      "         5.0       0.98      0.97      0.98      1227\n",
      "         6.0       0.99      0.99      0.99      1388\n",
      "         7.0       0.98      0.98      0.98      1466\n",
      "         8.0       0.98      0.97      0.98      1376\n",
      "         9.0       0.98      0.97      0.97      1384\n",
      "\n",
      "    accuracy                           0.98     14000\n",
      "   macro avg       0.98      0.98      0.98     14000\n",
      "weighted avg       0.98      0.98      0.98     14000\n",
      "\n"
     ]
    }
   ],
   "source": [
    "model = Sequential(\n",
    "    Dropout(0.85),\n",
    "    Linear(784, 256),\n",
    "    BatchNorm(256),\n",
    "    ReLU(),\n",
    "    Dropout(0.6),\n",
    "    Linear(256, 64),\n",
    "    BatchNorm(64),\n",
    "    ReLU(),\n",
    "    Dropout(0.6),\n",
    "    Linear(64, 16),\n",
    "    BatchNorm(16),\n",
    "    ReLU(),\n",
    "    Dropout(0.6),\n",
    "    Linear(16, 10),\n",
    "    SoftMax()\n",
    ")\n",
    "\n",
    "criterion = CrossEntropy()\n",
    "optimizer = Adam(model.parameters(), lr=3e-3)\n",
    "\n",
    "train(model, criterion, optimizer, x_train, y_train, epochs=50)\n",
    "print(evaluate(model, x_test, y_test))"
   ]
  },
  {
   "cell_type": "markdown",
   "metadata": {},
   "source": [
    "### Try different learning rate schedulers"
   ]
  },
  {
   "cell_type": "code",
   "execution_count": 178,
   "metadata": {},
   "outputs": [
    {
     "name": "stderr",
     "output_type": "stream",
     "text": [
      "100%|████████████████████████████████████████████████████████████████████████████████████████████████████████████████████████████████████████████████████████████████████████████████| 10/10 [00:53<00:00,  5.33s/it]\n"
     ]
    },
    {
     "data": {
      "image/png": "[encoded data removed]",
      "text/plain": [
       "<Figure size 432x288 with 1 Axes>"
      ]
     },
     "metadata": {
      "needs_background": "light"
     },
     "output_type": "display_data"
    },
    {
     "data": {
      "image/png": "[encoded data removed]",
      "text/plain": [
       "<Figure size 432x288 with 1 Axes>"
      ]
     },
     "metadata": {
      "needs_background": "light"
     },
     "output_type": "display_data"
    },
    {
     "name": "stdout",
     "output_type": "stream",
     "text": [
      "              precision    recall  f1-score   support\n",
      "\n",
      "         0.0       0.99      0.99      0.99      1360\n",
      "         1.0       0.99      0.99      0.99      1610\n",
      "         2.0       0.98      0.98      0.98      1459\n",
      "         3.0       0.97      0.97      0.97      1385\n",
      "         4.0       0.99      0.98      0.98      1345\n",
      "         5.0       0.97      0.97      0.97      1227\n",
      "         6.0       0.98      0.99      0.98      1388\n",
      "         7.0       0.98      0.98      0.98      1466\n",
      "         8.0       0.97      0.97      0.97      1376\n",
      "         9.0       0.98      0.97      0.97      1384\n",
      "\n",
      "    accuracy                           0.98     14000\n",
      "   macro avg       0.98      0.98      0.98     14000\n",
      "weighted avg       0.98      0.98      0.98     14000\n",
      "\n"
     ]
    }
   ],
   "source": [
    "model = Sequential(\n",
    "    Linear(784, 256),\n",
    "    BatchNorm(256),\n",
    "    ReLU(),\n",
    "    Linear(256, 64),\n",
    "    BatchNorm(64),\n",
    "    ReLU(),\n",
    "    Linear(64, 16),\n",
    "    BatchNorm(16),\n",
    "    ReLU(),\n",
    "    Linear(16, 10),\n",
    "    SoftMax()\n",
    ")\n",
    "\n",
    "criterion = CrossEntropy()\n",
    "optimizer = SGD(model.parameters())\n",
    "scheduler = LinearDecay(optimizer, epochs=20, power=1.5)\n",
    "\n",
    "train(model, criterion, optimizer, x_train, y_train, scheduler=scheduler, epochs=10)\n",
    "print(evaluate(model, x_test, y_test))"
   ]
  },
  {
   "cell_type": "code",
   "execution_count": 192,
   "metadata": {},
   "outputs": [
    {
     "name": "stderr",
     "output_type": "stream",
     "text": [
      "100%|████████████████████████████████████████████████████████████████████████████████████████████████████████████████████████████████████████████████████████████████████████████████| 10/10 [00:47<00:00,  4.75s/it]\n"
     ]
    },
    {
     "data": {
      "image/png": "[encoded data removed]",
      "text/plain": [
       "<Figure size 432x288 with 1 Axes>"
      ]
     },
     "metadata": {
      "needs_background": "light"
     },
     "output_type": "display_data"
    },
    {
     "data": {
      "image/png": "[encoded data removed]",
      "text/plain": [
       "<Figure size 432x288 with 1 Axes>"
      ]
     },
     "metadata": {
      "needs_background": "light"
     },
     "output_type": "display_data"
    },
    {
     "name": "stdout",
     "output_type": "stream",
     "text": [
      "              precision    recall  f1-score   support\n",
      "\n",
      "         0.0       0.98      0.98      0.98      1360\n",
      "         1.0       0.99      0.99      0.99      1610\n",
      "         2.0       0.96      0.98      0.97      1459\n",
      "         3.0       0.98      0.97      0.97      1385\n",
      "         4.0       0.98      0.98      0.98      1345\n",
      "         5.0       0.97      0.96      0.97      1227\n",
      "         6.0       0.98      0.98      0.98      1388\n",
      "         7.0       0.98      0.98      0.98      1466\n",
      "         8.0       0.96      0.97      0.97      1376\n",
      "         9.0       0.97      0.97      0.97      1384\n",
      "\n",
      "    accuracy                           0.98     14000\n",
      "   macro avg       0.98      0.98      0.98     14000\n",
      "weighted avg       0.98      0.98      0.98     14000\n",
      "\n"
     ]
    }
   ],
   "source": [
    "model = Sequential(\n",
    "    Linear(784, 256),\n",
    "    BatchNorm(256),\n",
    "    ReLU(),\n",
    "    Linear(256, 64),\n",
    "    BatchNorm(64),\n",
    "    ReLU(),\n",
    "    Linear(64, 16),\n",
    "    BatchNorm(16),\n",
    "    ReLU(),\n",
    "    Linear(16, 10),\n",
    "    SoftMax()\n",
    ")\n",
    "\n",
    "criterion = CrossEntropy()\n",
    "optimizer = SGD(model.parameters())\n",
    "scheduler = FactorDecay(optimizer, factor=0.7)\n",
    "\n",
    "train(model, criterion, optimizer, x_train, y_train, scheduler=scheduler, epochs=10)\n",
    "print(evaluate(model, x_test, y_test))"
   ]
  },
  {
   "cell_type": "code",
   "execution_count": 191,
   "metadata": {},
   "outputs": [
    {
     "name": "stderr",
     "output_type": "stream",
     "text": [
      "100%|████████████████████████████████████████████████████████████████████████████████████████████████████████████████████████████████████████████████████████████████████████████████| 20/20 [01:24<00:00,  4.25s/it]\n"
     ]
    },
    {
     "data": {
      "image/png": "[encoded data removed]",
      "text/plain": [
       "<Figure size 432x288 with 1 Axes>"
      ]
     },
     "metadata": {
      "needs_background": "light"
     },
     "output_type": "display_data"
    },
    {
     "data": {
      "image/png": "[encoded data removed]",
      "text/plain": [
       "<Figure size 432x288 with 1 Axes>"
      ]
     },
     "metadata": {
      "needs_background": "light"
     },
     "output_type": "display_data"
    },
    {
     "name": "stdout",
     "output_type": "stream",
     "text": [
      "              precision    recall  f1-score   support\n",
      "\n",
      "         0.0       0.98      0.99      0.98      1360\n",
      "         1.0       0.99      0.99      0.99      1610\n",
      "         2.0       0.98      0.97      0.98      1459\n",
      "         3.0       0.98      0.97      0.98      1385\n",
      "         4.0       0.98      0.97      0.98      1345\n",
      "         5.0       0.97      0.97      0.97      1227\n",
      "         6.0       0.98      0.99      0.98      1388\n",
      "         7.0       0.97      0.98      0.98      1466\n",
      "         8.0       0.97      0.97      0.97      1376\n",
      "         9.0       0.97      0.97      0.97      1384\n",
      "\n",
      "    accuracy                           0.98     14000\n",
      "   macro avg       0.98      0.98      0.98     14000\n",
      "weighted avg       0.98      0.98      0.98     14000\n",
      "\n"
     ]
    }
   ],
   "source": [
    "model = Sequential(\n",
    "    Linear(784, 256),\n",
    "    BatchNorm(256),\n",
    "    ReLU(),\n",
    "    Linear(256, 64),\n",
    "    BatchNorm(64),\n",
    "    ReLU(),\n",
    "    Linear(64, 16),\n",
    "    BatchNorm(16),\n",
    "    ReLU(),\n",
    "    Linear(16, 10),\n",
    "    SoftMax()\n",
    ")\n",
    "\n",
    "criterion = CrossEntropy()\n",
    "optimizer = SGD(model.parameters())\n",
    "scheduler = MultiFactorDecay(optimizer, times=[2, 5, 9, 14, 18])\n",
    "\n",
    "train(model, criterion, optimizer, x_train, y_train, scheduler=scheduler, epochs=20)\n",
    "print(evaluate(model, x_test, y_test))"
   ]
  },
  {
   "cell_type": "code",
   "execution_count": 200,
   "metadata": {},
   "outputs": [
    {
     "name": "stderr",
     "output_type": "stream",
     "text": [
      "/home/ummagumma/.local/lib/python3.10/site-packages/IPython/core/magic.py:187: FutureWarning: arrays to stack must be passed as a \"sequence\" type such as list or tuple. Support for non-sequence iterables such as generators is deprecated as of NumPy 1.16 and will raise an error in the future.\n",
      "  call = lambda f, *a, **k: f(*a, **k)\n"
     ]
    },
    {
     "name": "stdout",
     "output_type": "stream",
     "text": [
      "CPU times: user 1.64 s, sys: 390 ms, total: 2.03 s\n",
      "Wall time: 267 ms\n",
      "CPU times: user 74.8 ms, sys: 10 ms, total: 84.9 ms\n",
      "Wall time: 11 ms\n"
     ]
    }
   ],
   "source": [
    "%run hw_framework.ipynb"
   ]
  },
  {
   "cell_type": "code",
   "execution_count": 105,
   "metadata": {},
   "outputs": [
    {
     "name": "stdout",
     "output_type": "stream",
     "text": [
      "(16,) (16, 784)\n"
     ]
    },
    {
     "data": {
      "image/png": "[encoded data removed]",
      "text/plain": [
       "<Figure size 1296x360 with 16 Axes>"
      ]
     },
     "metadata": {
      "needs_background": "light"
     },
     "output_type": "display_data"
    }
   ],
   "source": [
    "y_pred = []\n",
    "x_ = []\n",
    "for x, y in loader(x_test, y_test, 16):\n",
    "    x_ = normalize_x(x)\n",
    "    y_pred = model.forward(x_).argmax(axis=1)\n",
    "    break\n",
    "print(y_pred.shape, x_.shape)\n",
    "x_ = x_ * 128 + 128\n",
    "images_and_predictions = list(zip(x_,y_pred))\n",
    "\n",
    "plt.figure(figsize=(18,5))\n",
    "for index, (image, prediction) in enumerate(images_and_predictions[:19]):\n",
    "    plt.subplot(2, 9, index + 1)\n",
    "    image = image.reshape(28, 28)\n",
    "    plt.imshow(image, cmap=plt.cm.gray_r, interpolation='nearest')\n",
    "    plt.title('Prediction: %i' % prediction)\n",
    "\n",
    "# save the figure\n",
    "plt.savefig('plot3.png', dpi=300, bbox_inches='tight')"
   ]
  },
  {
   "cell_type": "markdown",
   "metadata": {
    "colab_type": "text",
    "id": "33YJP2KeocW8"
   },
   "source": [
    "# Логистическая регрессия\n",
    "\n",
    "Этот пример нужнен для теситрования классификации (`CrossEntropy` и `SoftMax`).\n",
    "\n",
    "Возьмем в качестве датасета точки из двух гауссиан на плоскости."
   ]
  },
  {
   "cell_type": "code",
   "execution_count": 106,
   "metadata": {
    "colab": {},
    "colab_type": "code",
    "id": "Vy-6IgGWocW9",
    "scrolled": false
   },
   "outputs": [
    {
     "data": {
      "image/png": "[encoded data removed]",
      "text/plain": [
       "<Figure size 432x288 with 1 Axes>"
      ]
     },
     "metadata": {
      "needs_background": "light"
     },
     "output_type": "display_data"
    }
   ],
   "source": [
    "n = 500\n",
    "\n",
    "X1 = np.random.randn(n, 2) + np.array([2, 2])\n",
    "X2 = np.random.randn(n, 2) + np.array([-2, -2])\n",
    "X = np.vstack([X1, X2])\n",
    "\n",
    "Y = np.concatenate([np.ones(n), np.zeros(n)])[:, None]\n",
    "Y = np.hstack([Y, 1-Y])\n",
    "\n",
    "plt.scatter(X[:,0], X[:,1], c=Y[:,0])\n",
    "plt.show()"
   ]
  },
  {
   "cell_type": "markdown",
   "metadata": {
    "colab_type": "text",
    "id": "g6ga19VxocXB"
   },
   "source": [
    "Обратите внимание на `y`. Он в формате one-hot: у каждого вектора все нули, кроме одной единицы.\n",
    "\n",
    "Выходные данные в таком формате упростят написание `CrossEntropy`."
   ]
  },
  {
   "cell_type": "markdown",
   "metadata": {
    "colab_type": "text",
    "id": "zNDguGQXocXD"
   },
   "source": [
    "### Модель\n",
    "\n",
    "Логистическая регрессия — это тоже как бы маленькая нейронка: линейный слой, софтмакс, и максимизируем правдоподобие."
   ]
  },
  {
   "cell_type": "code",
   "execution_count": 125,
   "metadata": {
    "colab": {},
    "colab_type": "code",
    "id": "fdKlc0EgocXE"
   },
   "outputs": [],
   "source": [
    "model = Sequential(\n",
    "    Linear(2, 2),\n",
    "    SoftMax()\n",
    ")\n",
    "\n",
    "criterion = CrossEntropy()\n",
    "optimizer = AdaDelta(model.parameters())"
   ]
  },
  {
   "cell_type": "markdown",
   "metadata": {
    "colab_type": "text",
    "id": "NMoT8yXCocXI"
   },
   "source": [
    "### Обучение"
   ]
  },
  {
   "cell_type": "code",
   "execution_count": 126,
   "metadata": {
    "colab": {},
    "colab_type": "code",
    "id": "KIk7RXUrocXJ"
   },
   "outputs": [],
   "source": [
    "epochs = 10\n",
    "batch_size = 16\n",
    "learning_rate = 1e-2"
   ]
  },
  {
   "cell_type": "code",
   "execution_count": 127,
   "metadata": {
    "colab": {},
    "colab_type": "code",
    "id": "6RU473D9ocXN",
    "scrolled": false
   },
   "outputs": [
    {
     "data": {
      "image/png": "[encoded data removed]",
      "text/plain": [
       "<Figure size 432x288 with 1 Axes>"
      ]
     },
     "metadata": {
      "needs_background": "light"
     },
     "output_type": "display_data"
    }
   ],
   "source": [
    "history = []\n",
    "\n",
    "for i in range(epochs):\n",
    "    for x, y_true in loader(X, Y, batch_size):\n",
    "        # forward: считаем все значения до функции потерь\n",
    "        y_pred = model.forward(x)\n",
    "        loss = criterion.forward(y_pred, y_true)\n",
    "    \n",
    "        # backward: считаем все градиенты в обратном порядке\n",
    "        grad = criterion.backward(y_pred, y_true)\n",
    "        model.backward(x, grad)\n",
    "        \n",
    "        # обновляем веса\n",
    "        \n",
    "        optimizer.step()\n",
    "        # логгируем лосс\n",
    "        # history.append(loss)\n",
    "\n",
    "    \n",
    "plt.title(\"Training loss\")\n",
    "plt.xlabel(\"iteration\")\n",
    "plt.ylabel(\"loss\")\n",
    "plt.plot(history, 'b')\n",
    "plt.show()"
   ]
  },
  {
   "cell_type": "code",
   "execution_count": 128,
   "metadata": {},
   "outputs": [
    {
     "data": {
      "image/png": "[encoded data removed]",
      "text/plain": [
       "<Figure size 432x288 with 1 Axes>"
      ]
     },
     "metadata": {
      "needs_background": "light"
     },
     "output_type": "display_data"
    }
   ],
   "source": [
    "y_ = model.forward(X)\n",
    "\n",
    "plt.scatter(X[:,0], X[:,1], c=y_[:,0])\n",
    "plt.show()"
   ]
  },
  {
   "cell_type": "code",
   "execution_count": 124,
   "metadata": {},
   "outputs": [
    {
     "data": {
      "image/png": "[encoded data removed]",
      "text/plain": [
       "<Figure size 432x288 with 1 Axes>"
      ]
     },
     "metadata": {
      "needs_background": "light"
     },
     "output_type": "display_data"
    }
   ],
   "source": [
    "y_ = model.forward(X)\n",
    "\n",
    "plt.scatter(X[:,0], X[:,1], c=y_[:,0])\n",
    "plt.show()"
   ]
  },
  {
   "cell_type": "code",
   "execution_count": 120,
   "metadata": {},
   "outputs": [
    {
     "data": {
      "image/png": "[encoded data removed]",
      "text/plain": [
       "<Figure size 432x288 with 1 Axes>"
      ]
     },
     "metadata": {
      "needs_background": "light"
     },
     "output_type": "display_data"
    }
   ],
   "source": [
    "y_ = model.forward(X)\n",
    "\n",
    "plt.scatter(X[:,0], X[:,1], c=y_[:,0])\n",
    "plt.show()"
   ]
  },
  {
   "cell_type": "code",
   "execution_count": 116,
   "metadata": {},
   "outputs": [
    {
     "data": {
      "image/png": "[encoded data removed]",
      "text/plain": [
       "<Figure size 432x288 with 1 Axes>"
      ]
     },
     "metadata": {
      "needs_background": "light"
     },
     "output_type": "display_data"
    }
   ],
   "source": [
    "y_ = model.forward(X)\n",
    "\n",
    "plt.scatter(X[:,0], X[:,1], c=y_[:,0])\n",
    "plt.show()"
   ]
  },
  {
   "cell_type": "markdown",
   "metadata": {
    "colab_type": "text",
    "id": "Mc_7Av6uocXR"
   },
   "source": [
    "Мы тут пропустили много важных деталей: валидация, подсчет точности (кроссэнтропия не очень информативна), регуляризация. Вам всё это нужно будет реализовать потом самим."
   ]
  },
  {
   "cell_type": "markdown",
   "metadata": {
    "colab_type": "text",
    "id": "tmqQxNhFocXS"
   },
   "source": [
    "# Теперь сами"
   ]
  },
  {
   "cell_type": "code",
   "execution_count": 154,
   "metadata": {
    "colab": {},
    "colab_type": "code",
    "id": "BRYIbyvzocXT"
   },
   "outputs": [],
   "source": [
    "import os\n",
    "# dataset = fetch_openml(name='mnist_784')\n",
    "X = dataset.data.to_numpy()\n",
    "Y = dataset.target.to_numpy().astype(np.float64)\n",
    "x_train, x_test, y_train, y_test = train_test_split(X, Y, test_size=0.3)"
   ]
  },
  {
   "cell_type": "markdown",
   "metadata": {
    "colab_type": "text",
    "id": "FPZV7JdYocXa"
   },
   "source": [
    "Переведите лейблы в one-hot."
   ]
  },
  {
   "cell_type": "code",
   "execution_count": 150,
   "metadata": {
    "colab": {},
    "colab_type": "code",
    "id": "A0n63WKSocXc"
   },
   "outputs": [],
   "source": [
    "def to_one_hot(x, n_classes):\n",
    "    out = np.zeros((x.shape[0], n_classes))\n",
    "    out[np.arange(x.shape[0]),x.astype(np.int32)] = 1\n",
    "    return out\n",
    "\n",
    "def normalize_x(x):\n",
    "    return (x - 128) / 128"
   ]
  },
  {
   "cell_type": "markdown",
   "metadata": {
    "colab_type": "text",
    "id": "d726biJBocXj"
   },
   "source": [
    "Разделите датасет на train и validation."
   ]
  },
  {
   "cell_type": "code",
   "execution_count": null,
   "metadata": {
    "colab": {},
    "colab_type": "code",
    "id": "VDMMhl24ocXk"
   },
   "outputs": [],
   "source": [
    "x_train, x_test, y_train, y_test = train_test_split(X, Y, test_size=0.3)"
   ]
  },
  {
   "cell_type": "markdown",
   "metadata": {
    "colab_type": "text",
    "id": "XHv3CVCIocXo"
   },
   "source": [
    "Теперь напишите модель и train loop. Можете начать с адаптации предыдущего примера.\n",
    "\n",
    "Дальше начинается творческая часть и настоящий Deep Learning:\n",
    "* поиграйтесь с архитектурами;\n",
    "* поиграйтесь с learning rate и batch_size;\n",
    "* сделайте learning rate decay;\n",
    "* сделайте data augmentation.\n",
    "\n",
    "Have fun. Дедлайн — не две недели, а до конца курса."
   ]
  },
  {
   "cell_type": "code",
   "execution_count": 155,
   "metadata": {
    "colab": {},
    "colab_type": "code",
    "id": "q4XW6uFEocXp"
   },
   "outputs": [],
   "source": [
    "def evaluate(model, X, Y):\n",
    "    model.eval()\n",
    "    trues = []\n",
    "    preds = []    \n",
    "    for x, y_true in loader(X, Y, batch_size):\n",
    "        x_ = normalize_x(x)\n",
    "        y_pred = model.forward(x_).argmax(axis=1)\n",
    "        trues.extend(y_true)\n",
    "        preds.extend(y_pred)\n",
    "        \n",
    "    return classification_report(trues, preds)"
   ]
  },
  {
   "cell_type": "code",
   "execution_count": 156,
   "metadata": {
    "colab": {},
    "colab_type": "code",
    "id": "EHGcq3iMocXs"
   },
   "outputs": [],
   "source": [
    "def train(model, criterion, optimizer, X, Y, \n",
    "          epochs = 5,\n",
    "          batch_size = 128,\n",
    "          learning_rate = 1e-3):\n",
    "    history = []\n",
    "    grads = []\n",
    "    grad_means_l = []\n",
    "\n",
    "    for i in tqdm(range(epochs)):\n",
    "        for x, y_true in loader(X, Y, batch_size):\n",
    "\n",
    "            x_ = normalize_x(x)\n",
    "            y_true_oh = to_one_hot(y_true, 10)\n",
    "            y_pred = model.forward(x_)\n",
    "            loss = criterion.forward(y_pred, y_true_oh)\n",
    "\n",
    "            grad = criterion.backward(y_pred, y_true_oh)\n",
    "            model.backward(x_, grad)\n",
    "            \n",
    "#             g = clip_grad(model.grad_parameters(), 1.0)\n",
    "#             grads.append(g)\n",
    "            grad_means_l.append(grad_means(model.grad_parameters()))\n",
    "\n",
    "            # обновляем веса\n",
    "            optimizer.step()\n",
    "\n",
    "            history.append(loss)\n",
    "\n",
    "    plt.title(\"Training loss\")\n",
    "    plt.xlabel(\"iteration\")\n",
    "    plt.ylabel(\"loss\")\n",
    "    plt.plot(history, 'b')\n",
    "    plt.show()\n",
    "    \n",
    "#     plt.title(\"Gradient mean\")\n",
    "#     plt.xlabel(\"iteration\")\n",
    "#     plt.ylabel(\"grad mean\")\n",
    "#     plt.plot(grads, 'b')\n",
    "#     plt.show()\n",
    "    \n",
    "#     plt.plot(grad_means_l)\n",
    "#     plt.show()"
   ]
  },
  {
   "cell_type": "code",
   "execution_count": null,
   "metadata": {},
   "outputs": [],
   "source": []
  }
 ],
 "metadata": {
  "colab": {
   "collapsed_sections": [],
   "name": "hw_backprop.ipynb",
   "provenance": []
  },
  "kernelspec": {
   "display_name": "Python 3 (ipykernel)",
   "language": "python",
   "name": "python3"
  },
  "language_info": {
   "codemirror_mode": {
    "name": "ipython",
    "version": 3
   },
   "file_extension": ".py",
   "mimetype": "text/x-python",
   "name": "python",
   "nbconvert_exporter": "python",
   "pygments_lexer": "ipython3",
   "version": "3.10.2"
  }
 },
 "nbformat": 4,
 "nbformat_minor": 1
}
